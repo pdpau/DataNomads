{
 "cells": [
  {
   "cell_type": "markdown",
   "metadata": {},
   "source": [
    "# Mobile Data Challenge 2024\n",
    "## Test Notebook\n",
    "\n",
    "In this challenge you'll work with a big real dataset and you may have or haven't worked with datasets and code before. We're giving you a random dataset similarly structured as  an extract from the one you'll be given in the following days by Telefónica. Please note that the data in this dataset is not real and any possible similarities with the reality are just coincidences. We propose you to solve this simple notebook working with this data. You may obtain results with no sense.\n",
    "\n",
    "The dataset is composed of an CSV file with 6 columns:\n",
    "1. Day of the roaming entry (DD/MM/AAAA)\n",
    "2. Name of the province of origin\n",
    "3. Name of the province of destination\n",
    "4. Day of the week\n",
    "5. Count of cellular connections roamed from origin to destination (number of trips)\n",
    "\n",
    "For this notebook to work, the dataset must be located in the same path as this notebook and the original name \"testdata.csv\". If you changed the name, make sure to change it in the file_path line below."
   ]
  },
  {
   "cell_type": "code",
   "execution_count": null,
   "metadata": {},
   "outputs": [],
   "source": [
    "# Installs and imports\n",
    "!pip install pandas\n",
    "!pip install matplotlib\n",
    "import pandas as pd\n",
    "import matplotlib.pyplot as plt"
   ]
  },
  {
   "cell_type": "code",
   "execution_count": 49,
   "metadata": {},
   "outputs": [],
   "source": [
    "# Path to the CSV file (CSV SHOULD BE INSIDE SAME DIRECTORY AS NOTEBOOK)\n",
    "file_path = 'testdata.csv'\n",
    "\n",
    "# Read the CSV file into a DataFrame\n",
    "df = pd.read_csv(file_path, delimiter=';')"
   ]
  },
  {
   "cell_type": "code",
   "execution_count": null,
   "metadata": {},
   "outputs": [],
   "source": [
    "# Print columns for making sure read_csv worked\n",
    "print(df.info())"
   ]
  },
  {
   "cell_type": "markdown",
   "metadata": {},
   "source": [
    "We would like, for example, to know how many people came to Catalonia in the 3rd week of this past August, as we are pretty aware that a lot of people move inside the country those dates. We should then filter those entries of which the provinces of origin differ from the four in Catalonia (Barcelona, Girona, Lleida, Tarragona):"
   ]
  },
  {
   "cell_type": "code",
   "execution_count": null,
   "metadata": {},
   "outputs": [],
   "source": [
    "# List of provinces to discard\n",
    "\n",
    "# Filter the DataFrame\n",
    "\n",
    "# Convert the filtered DataFrame to a list of dictionaries\n"
   ]
  },
  {
   "cell_type": "markdown",
   "metadata": {},
   "source": [
    "Now we should filter those entries from this new list of which the provinces of destination are in Catalonia (Barcelona, Girona, Lleida, Tarragona):"
   ]
  },
  {
   "cell_type": "code",
   "execution_count": null,
   "metadata": {},
   "outputs": [],
   "source": [
    "# Filter the list\n"
   ]
  },
  {
   "cell_type": "markdown",
   "metadata": {},
   "source": [
    "We obtain the entries corresponding to the 3rd week of august (from the 19th to the 25th):"
   ]
  },
  {
   "cell_type": "code",
   "execution_count": null,
   "metadata": {},
   "outputs": [],
   "source": [
    "# Filter the list for entries with 'Month' being 'Agosto'\n",
    "\n",
    "# Select the entries for the specified dates\n"
   ]
  },
  {
   "cell_type": "markdown",
   "metadata": {},
   "source": [
    "Now we can plot a graph of how many people came to Catalonia from the rest of Spain during that week:"
   ]
  },
  {
   "cell_type": "code",
   "execution_count": null,
   "metadata": {},
   "outputs": [],
   "source": [
    "\n",
    "# Count the number of entries for each province of origin\n",
    "\n",
    "# Sum the values of column 'Viajes' by 'Provincia Origen Name'\n",
    "\n",
    "# Plot the bar graph\n",
    "\n",
    "# Add title and labels\n",
    "\n",
    "# Annotate the bar graph with the values (optional)\n",
    "\n",
    "# Show the plot\n"
   ]
  },
  {
   "cell_type": "markdown",
   "metadata": {},
   "source": [
    "We can show the plot in order so it's easier to see at a glance which provinces had the most people coming here and which the less."
   ]
  },
  {
   "cell_type": "code",
   "execution_count": null,
   "metadata": {},
   "outputs": [],
   "source": [
    "# Sort the series by the number of trips\n",
    "\n",
    "# Plot the sorted bar graph\n",
    "\n",
    "# Add title and labels\n",
    "\n",
    "# Annotate the bar graph with the values (optional)\n",
    "\n",
    "# Show the plot\n"
   ]
  },
  {
   "cell_type": "markdown",
   "metadata": {},
   "source": [
    "This is just an example of a simple outcome you can obtain with a dataset similar to what you'll be given. The possibilities are huge and we're sure you'll make the most of it!"
   ]
  }
 ],
 "metadata": {
  "kernelspec": {
   "display_name": "base",
   "language": "python",
   "name": "python3"
  },
  "language_info": {
   "codemirror_mode": {
    "name": "ipython",
    "version": 3
   },
   "file_extension": ".py",
   "mimetype": "text/x-python",
   "name": "python",
   "nbconvert_exporter": "python",
   "pygments_lexer": "ipython3",
   "version": "3.12.5"
  }
 },
 "nbformat": 4,
 "nbformat_minor": 2
}
