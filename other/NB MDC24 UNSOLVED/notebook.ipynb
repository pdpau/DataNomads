{
 "cells": [
  {
   "cell_type": "markdown",
   "metadata": {},
   "source": [
    "# Mobile Data Challenge 2024\n",
    "## Notebook de prova\n",
    "\n",
    "En aquest challenge treballareu amb un gran dataset real i pot ser que mai hagueu treballat amb dades mitjançant codi. Us proporcionem un dataset de mostra similar a una extracció del que rebreu per part de Telefónica, amb dades aleatòries per l'objectiu de que dugueu a terme les següents activitats simples a partir d'elles. Les dades proporcionades són fictícies i només pel propòsit de simular unes activitats bàsiques, qualsevol similitud amb la realitat es només una coincidència. Els resultats que obtingueu poden no tenir sentit.\n",
    "\n",
    "El dataset es composa d'un CSV amb 6 columnes: \n",
    "1. Dia al que es refereix la medició (format DD/MM/AAAA)\n",
    "2. Nom de la província d'origen\n",
    "3. Nom de la província de destí\n",
    "4. Dia de la setmana\n",
    "5. Mes\n",
    "6. Número de conexions mòbils desplaçades d'origen a destí (nº de viatges)\n",
    "\n",
    "Per a que el notebook funcioni, el dataset s'ha de trobar al mateix directori que el notebook i sota el nom original \"testdata.csv\". Si heu canviat el nom del CSV, canvieu-lo també a la línea de codi del file_path que trobareu a sota."
   ]
  },
  {
   "cell_type": "code",
   "execution_count": 2,
   "metadata": {},
   "outputs": [],
   "source": [
    "# Installs and imports\n",
    "# !pip install pandas\n",
    "# !pip install matplotlib\n",
    "import pandas as pd\n",
    "import matplotlib.pyplot as plt"
   ]
  },
  {
   "cell_type": "code",
   "execution_count": 3,
   "metadata": {},
   "outputs": [],
   "source": [
    "# Path to the CSV file (CSV SHOULD BE INSIDE SAME DIRECTORY AS NOTEBOOK)\n",
    "file_path = 'testdata.csv'\n",
    "\n",
    "# Read the CSV file into a DataFrame\n",
    "df = pd.read_csv(file_path, delimiter=';')"
   ]
  },
  {
   "cell_type": "code",
   "execution_count": 4,
   "metadata": {},
   "outputs": [
    {
     "name": "stdout",
     "output_type": "stream",
     "text": [
      "<class 'pandas.core.frame.DataFrame'>\n",
      "RangeIndex: 123 entries, 0 to 122\n",
      "Data columns (total 6 columns):\n",
      " #   Column                  Non-Null Count  Dtype \n",
      "---  ------                  --------------  ----- \n",
      " 0   Day                     123 non-null    object\n",
      " 1   Provincia Origen Name   123 non-null    object\n",
      " 2   Provincia Destino Name  123 non-null    object\n",
      " 3   Day Of Week             123 non-null    object\n",
      " 4   Month                   123 non-null    object\n",
      " 5   Viajes                  123 non-null    int64 \n",
      "dtypes: int64(1), object(5)\n",
      "memory usage: 5.9+ KB\n",
      "None\n"
     ]
    }
   ],
   "source": [
    "# Print columns for making sure read_csv worked\n",
    "print(df.info())"
   ]
  },
  {
   "cell_type": "markdown",
   "metadata": {},
   "source": [
    "Amb aquest dataset, per exemple ens agradaria obtenir les dades de quanta gent de fora ha vingut a Catalunya la 3a setmana d'agost (dies 19-25).\n",
    "\n",
    "Per això hem de filtrar aquelles entrades en les quals l'origen sigui alguna província de Catalunya (Barcelona, Girona, Lleida i Tarragona):"
   ]
  },
  {
   "cell_type": "code",
   "execution_count": 14,
   "metadata": {},
   "outputs": [
    {
     "name": "stdout",
     "output_type": "stream",
     "text": [
      "[{'Day': '01/05/2024', 'Provincia Origen Name': 'Madrid', 'Provincia Destino Name': 'Girona', 'Day Of Week': 'Sábado', 'Month': 'Mayo', 'Viajes': 27050}, {'Day': '03/05/2024', 'Provincia Origen Name': 'Valencia', 'Provincia Destino Name': 'Barcelona', 'Day Of Week': 'Martes', 'Month': 'Mayo', 'Viajes': 2980}, {'Day': '04/05/2024', 'Provincia Origen Name': 'Sevilla', 'Provincia Destino Name': 'Lérida', 'Day Of Week': 'Viernes', 'Month': 'Mayo', 'Viajes': 4123}, {'Day': '05/05/2024', 'Provincia Origen Name': 'Zaragoza', 'Provincia Destino Name': 'Málaga', 'Day Of Week': 'Miércoles', 'Month': 'Mayo', 'Viajes': 1865}, {'Day': '06/05/2024', 'Provincia Origen Name': 'Málaga', 'Provincia Destino Name': 'Cádiz', 'Day Of Week': 'Jueves', 'Month': 'Mayo', 'Viajes': 2450}, {'Day': '07/05/2024', 'Provincia Origen Name': 'Murcia', 'Provincia Destino Name': 'Girona', 'Day Of Week': 'Domingo', 'Month': 'Mayo', 'Viajes': 47890}, {'Day': '08/05/2024', 'Provincia Origen Name': 'Alicante', 'Provincia Destino Name': 'Madrid', 'Day Of Week': 'Martes', 'Month': 'Mayo', 'Viajes': 3260}, {'Day': '09/05/2024', 'Provincia Origen Name': 'Cádiz', 'Provincia Destino Name': 'Huelva', 'Day Of Week': 'Sábado', 'Month': 'Mayo', 'Viajes': 13700}, {'Day': '10/05/2024', 'Provincia Origen Name': 'Granada', 'Provincia Destino Name': 'Albacete', 'Day Of Week': 'Jueves', 'Month': 'Mayo', 'Viajes': 48765}, {'Day': '11/05/2024', 'Provincia Origen Name': 'Toledo', 'Provincia Destino Name': 'Burgos', 'Day Of Week': 'Lunes', 'Month': 'Mayo', 'Viajes': 9700}, {'Day': '12/05/2024', 'Provincia Origen Name': 'Salamanca', 'Provincia Destino Name': 'Jaén', 'Day Of Week': 'Domingo', 'Month': 'Mayo', 'Viajes': 2012}, {'Day': '13/05/2024', 'Provincia Origen Name': 'León', 'Provincia Destino Name': 'Valencia', 'Day Of Week': 'Miércoles', 'Month': 'Mayo', 'Viajes': 45600}, {'Day': '14/05/2024', 'Provincia Origen Name': 'Burgos', 'Provincia Destino Name': 'Granada', 'Day Of Week': 'Viernes', 'Month': 'Mayo', 'Viajes': 8900}, {'Day': '15/05/2024', 'Provincia Origen Name': 'La Coruña', 'Provincia Destino Name': 'Tarragona', 'Day Of Week': 'Jueves', 'Month': 'Mayo', 'Viajes': 18900}, {'Day': '16/05/2024', 'Provincia Origen Name': 'Ourense', 'Provincia Destino Name': 'León', 'Day Of Week': 'Sábado', 'Month': 'Mayo', 'Viajes': 3400}, {'Day': '17/05/2024', 'Provincia Origen Name': 'Pontevedra', 'Provincia Destino Name': 'Almería', 'Day Of Week': 'Martes', 'Month': 'Mayo', 'Viajes': 4025}, {'Day': '18/05/2024', 'Provincia Origen Name': 'Lugo', 'Provincia Destino Name': 'Ceuta', 'Day Of Week': 'Lunes', 'Month': 'Mayo', 'Viajes': 4600}, {'Day': '19/05/2024', 'Provincia Origen Name': 'Albacete', 'Provincia Destino Name': 'Tarragona', 'Day Of Week': 'Domingo', 'Month': 'Mayo', 'Viajes': 28700}, {'Day': '20/05/2024', 'Provincia Origen Name': 'Ciudad Real', 'Provincia Destino Name': 'Salamanca', 'Day Of Week': 'Miércoles', 'Month': 'Mayo', 'Viajes': 19999}, {'Day': '21/05/2024', 'Provincia Origen Name': 'Cuenca', 'Provincia Destino Name': 'Barcelona', 'Day Of Week': 'Viernes', 'Month': 'Mayo', 'Viajes': 21500}, {'Day': '22/05/2024', 'Provincia Origen Name': 'Guadalajara', 'Provincia Destino Name': 'Huesca', 'Day Of Week': 'Sábado', 'Month': 'Mayo', 'Viajes': 47000}, {'Day': '23/05/2024', 'Provincia Origen Name': 'Soria', 'Provincia Destino Name': 'Murcia', 'Day Of Week': 'Jueves', 'Month': 'Mayo', 'Viajes': 3040}, {'Day': '24/05/2024', 'Provincia Origen Name': 'Segovia', 'Provincia Destino Name': 'Girona', 'Day Of Week': 'Lunes', 'Month': 'Mayo', 'Viajes': 12800}, {'Day': '25/05/2024', 'Provincia Origen Name': 'Ávila', 'Provincia Destino Name': 'Navarra', 'Day Of Week': 'Martes', 'Month': 'Mayo', 'Viajes': 3890}, {'Day': '26/05/2024', 'Provincia Origen Name': 'Cantabria', 'Provincia Destino Name': 'La Rioja', 'Day Of Week': 'Domingo', 'Month': 'Mayo', 'Viajes': 48500}, {'Day': '27/05/2024', 'Provincia Origen Name': 'Asturias', 'Provincia Destino Name': 'Zaragoza', 'Day Of Week': 'Viernes', 'Month': 'Mayo', 'Viajes': 6000}, {'Day': '28/05/2024', 'Provincia Origen Name': 'Bilbao', 'Provincia Destino Name': 'Badajoz', 'Day Of Week': 'Miércoles', 'Month': 'Mayo', 'Viajes': 1500}, {'Day': '29/05/2024', 'Provincia Origen Name': 'Navarra', 'Provincia Destino Name': 'Cáceres', 'Day Of Week': 'Sábado', 'Month': 'Mayo', 'Viajes': 18700}, {'Day': '30/05/2024', 'Provincia Origen Name': 'La Rioja', 'Provincia Destino Name': 'Alicante', 'Day Of Week': 'Lunes', 'Month': 'Mayo', 'Viajes': 41500}, {'Day': '31/05/2024', 'Provincia Origen Name': 'Huesca', 'Provincia Destino Name': 'La Coruña', 'Day Of Week': 'Martes', 'Month': 'Mayo', 'Viajes': 15900}, {'Day': '01/06/2024', 'Provincia Origen Name': 'Teruel', 'Provincia Destino Name': 'Tarragona', 'Day Of Week': 'Jueves', 'Month': 'Junio', 'Viajes': 3210}, {'Day': '04/06/2024', 'Provincia Origen Name': 'Badajoz', 'Provincia Destino Name': 'Lérida', 'Day Of Week': 'Miércoles', 'Month': 'Junio', 'Viajes': 23000}, {'Day': '05/06/2024', 'Provincia Origen Name': 'Cáceres', 'Provincia Destino Name': 'Santa Cruz de Tenerife', 'Day Of Week': 'Sábado', 'Month': 'Junio', 'Viajes': 49000}, {'Day': '06/06/2024', 'Provincia Origen Name': 'Córdoba', 'Provincia Destino Name': 'Ourense', 'Day Of Week': 'Lunes', 'Month': 'Junio', 'Viajes': 8000}, {'Day': '07/06/2024', 'Provincia Origen Name': 'Jaén', 'Provincia Destino Name': 'Toledo', 'Day Of Week': 'Martes', 'Month': 'Junio', 'Viajes': 17000}, {'Day': '08/06/2024', 'Provincia Origen Name': 'Almería', 'Provincia Destino Name': 'Asturias', 'Day Of Week': 'Jueves', 'Month': 'Junio', 'Viajes': 24800}, {'Day': '09/06/2024', 'Provincia Origen Name': 'Huelva', 'Provincia Destino Name': 'Girona', 'Day Of Week': 'Domingo', 'Month': 'Junio', 'Viajes': 45678}, {'Day': '10/06/2024', 'Provincia Origen Name': 'Ceuta', 'Provincia Destino Name': 'Bilbao', 'Day Of Week': 'Viernes', 'Month': 'Junio', 'Viajes': 7500}, {'Day': '11/06/2024', 'Provincia Origen Name': 'Melilla', 'Provincia Destino Name': 'Cuenca', 'Day Of Week': 'Sábado', 'Month': 'Junio', 'Viajes': 30000}, {'Day': '12/06/2024', 'Provincia Origen Name': 'Santa Cruz de Tenerife', 'Provincia Destino Name': 'Guadalajara', 'Day Of Week': 'Lunes', 'Month': 'Junio', 'Viajes': 1200}, {'Day': '13/06/2024', 'Provincia Origen Name': 'Las Palmas', 'Provincia Destino Name': 'Lugo', 'Day Of Week': 'Miércoles', 'Month': 'Junio', 'Viajes': 1990}, {'Day': '14/06/2024', 'Provincia Origen Name': 'Castellón', 'Provincia Destino Name': 'Cádiz', 'Day Of Week': 'Jueves', 'Month': 'Junio', 'Viajes': 36700}, {'Day': '15/06/2024', 'Provincia Origen Name': 'Valencia', 'Provincia Destino Name': 'Zamora', 'Day Of Week': 'Martes', 'Month': 'Junio', 'Viajes': 2550}, {'Day': '16/06/2024', 'Provincia Origen Name': 'Alicante', 'Provincia Destino Name': 'Barcelona', 'Day Of Week': 'Domingo', 'Month': 'Junio', 'Viajes': 49012}, {'Day': '17/06/2024', 'Provincia Origen Name': 'Murcia', 'Provincia Destino Name': 'Málaga', 'Day Of Week': 'Viernes', 'Month': 'Junio', 'Viajes': 9600}, {'Day': '18/06/2024', 'Provincia Origen Name': 'Madrid', 'Provincia Destino Name': 'Segovia', 'Day Of Week': 'Sábado', 'Month': 'Junio', 'Viajes': 15000}, {'Day': '22/06/2024', 'Provincia Origen Name': 'Zaragoza', 'Provincia Destino Name': 'Girona', 'Day Of Week': 'Jueves', 'Month': 'Junio', 'Viajes': 10000}, {'Day': '23/06/2024', 'Provincia Origen Name': 'Huesca', 'Provincia Destino Name': 'Córdoba', 'Day Of Week': 'Domingo', 'Month': 'Junio', 'Viajes': 2700}, {'Day': '24/06/2024', 'Provincia Origen Name': 'Teruel', 'Provincia Destino Name': 'Huelva', 'Day Of Week': 'Viernes', 'Month': 'Junio', 'Viajes': 48000}, {'Day': '25/06/2024', 'Provincia Origen Name': 'Navarra', 'Provincia Destino Name': 'Melilla', 'Day Of Week': 'Lunes', 'Month': 'Junio', 'Viajes': 34000}, {'Day': '26/06/2024', 'Provincia Origen Name': 'La Rioja', 'Provincia Destino Name': 'Soria', 'Day Of Week': 'Sábado', 'Month': 'Junio', 'Viajes': 12000}, {'Day': '27/06/2024', 'Provincia Origen Name': 'Ávila', 'Provincia Destino Name': 'Tarragona', 'Day Of Week': 'Martes', 'Month': 'Junio', 'Viajes': 6780}, {'Day': '28/06/2024', 'Provincia Origen Name': 'Segovia', 'Provincia Destino Name': 'Badajoz', 'Day Of Week': 'Jueves', 'Month': 'Junio', 'Viajes': 36800}, {'Day': '29/06/2024', 'Provincia Origen Name': 'Soria', 'Provincia Destino Name': 'Lérida', 'Day Of Week': 'Miércoles', 'Month': 'Junio', 'Viajes': 2500}, {'Day': '30/06/2024', 'Provincia Origen Name': 'Burgos', 'Provincia Destino Name': 'Ávila', 'Day Of Week': 'Domingo', 'Month': 'Junio', 'Viajes': 14789}, {'Day': '01/07/2024', 'Provincia Origen Name': 'León', 'Provincia Destino Name': 'Cádiz', 'Day Of Week': 'Lunes', 'Month': 'Julio', 'Viajes': 2450}, {'Day': '02/07/2024', 'Provincia Origen Name': 'Salamanca', 'Provincia Destino Name': 'Tarragona', 'Day Of Week': 'Viernes', 'Month': 'Julio', 'Viajes': 49000}, {'Day': '03/07/2024', 'Provincia Origen Name': 'Zamora', 'Provincia Destino Name': 'León', 'Day Of Week': 'Sábado', 'Month': 'Julio', 'Viajes': 42000}, {'Day': '04/07/2024', 'Provincia Origen Name': 'Cáceres', 'Provincia Destino Name': 'Murcia', 'Day Of Week': 'Martes', 'Month': 'Julio', 'Viajes': 13800}, {'Day': '05/07/2024', 'Provincia Origen Name': 'Badajoz', 'Provincia Destino Name': 'Asturias', 'Day Of Week': 'Jueves', 'Month': 'Julio', 'Viajes': 4000}, {'Day': '06/07/2024', 'Provincia Origen Name': 'Córdoba', 'Provincia Destino Name': 'Barcelona', 'Day Of Week': 'Miércoles', 'Month': 'Julio', 'Viajes': 35000}, {'Day': '07/07/2024', 'Provincia Origen Name': 'Jaén', 'Provincia Destino Name': 'Cáceres', 'Day Of Week': 'Domingo', 'Month': 'Julio', 'Viajes': 12300}, {'Day': '08/07/2024', 'Provincia Origen Name': 'Almería', 'Provincia Destino Name': 'Girona', 'Day Of Week': 'Lunes', 'Month': 'Julio', 'Viajes': 4560}, {'Day': '09/07/2024', 'Provincia Origen Name': 'Granada', 'Provincia Destino Name': 'Navarra', 'Day Of Week': 'Sábado', 'Month': 'Julio', 'Viajes': 27000}, {'Day': '10/07/2024', 'Provincia Origen Name': 'Huelva', 'Provincia Destino Name': 'Albacete', 'Day Of Week': 'Viernes', 'Month': 'Julio', 'Viajes': 1990}, {'Day': '11/07/2024', 'Provincia Origen Name': 'Cádiz', 'Provincia Destino Name': 'Teruel', 'Day Of Week': 'Martes', 'Month': 'Julio', 'Viajes': 3050}, {'Day': '12/07/2024', 'Provincia Origen Name': 'Málaga', 'Provincia Destino Name': 'Salamanca', 'Day Of Week': 'Jueves', 'Month': 'Julio', 'Viajes': 49999}, {'Day': '13/07/2024', 'Provincia Origen Name': 'Murcia', 'Provincia Destino Name': 'Alicante', 'Day Of Week': 'Miércoles', 'Month': 'Julio', 'Viajes': 3400}, {'Day': '14/07/2024', 'Provincia Origen Name': 'Toledo', 'Provincia Destino Name': 'Huesca', 'Day Of Week': 'Lunes', 'Month': 'Julio', 'Viajes': 6890}, {'Day': '15/07/2024', 'Provincia Origen Name': 'Salamanca', 'Provincia Destino Name': 'Córdoba', 'Day Of Week': 'Domingo', 'Month': 'Julio', 'Viajes': 23000}, {'Day': '16/07/2024', 'Provincia Origen Name': 'León', 'Provincia Destino Name': 'Sevilla', 'Day Of Week': 'Sábado', 'Month': 'Julio', 'Viajes': 47000}, {'Day': '17/07/2024', 'Provincia Origen Name': 'Burgos', 'Provincia Destino Name': 'La Rioja', 'Day Of Week': 'Viernes', 'Month': 'Julio', 'Viajes': 15000}, {'Day': '18/07/2024', 'Provincia Origen Name': 'Zamora', 'Provincia Destino Name': 'Zaragoza', 'Day Of Week': 'Jueves', 'Month': 'Julio', 'Viajes': 24500}, {'Day': '19/07/2024', 'Provincia Origen Name': 'Badajoz', 'Provincia Destino Name': 'Madrid', 'Day Of Week': 'Lunes', 'Month': 'Julio', 'Viajes': 5123}, {'Day': '20/07/2024', 'Provincia Origen Name': 'Cáceres', 'Provincia Destino Name': 'Girona', 'Day Of Week': 'Martes', 'Month': 'Julio', 'Viajes': 43000}, {'Day': '21/07/2024', 'Provincia Origen Name': 'Córdoba', 'Provincia Destino Name': 'Tarragona', 'Day Of Week': 'Miércoles', 'Month': 'Julio', 'Viajes': 8000}, {'Day': '22/07/2024', 'Provincia Origen Name': 'Jaén', 'Provincia Destino Name': 'Lérida', 'Day Of Week': 'Domingo', 'Month': 'Julio', 'Viajes': 2980}, {'Day': '23/07/2024', 'Provincia Origen Name': 'Albacete', 'Provincia Destino Name': 'Cádiz', 'Day Of Week': 'Sábado', 'Month': 'Julio', 'Viajes': 16500}, {'Day': '24/07/2024', 'Provincia Origen Name': 'Ciudad Real', 'Provincia Destino Name': 'Burgos', 'Day Of Week': 'Viernes', 'Month': 'Julio', 'Viajes': 4800}, {'Day': '25/07/2024', 'Provincia Origen Name': 'Cuenca', 'Provincia Destino Name': 'León', 'Day Of Week': 'Jueves', 'Month': 'Julio', 'Viajes': 17500}, {'Day': '26/07/2024', 'Provincia Origen Name': 'Guadalajara', 'Provincia Destino Name': 'Zamora', 'Day Of Week': 'Lunes', 'Month': 'Julio', 'Viajes': 24000}, {'Day': '27/07/2024', 'Provincia Origen Name': 'Soria', 'Provincia Destino Name': 'Ourense', 'Day Of Week': 'Martes', 'Month': 'Julio', 'Viajes': 15700}, {'Day': '28/07/2024', 'Provincia Origen Name': 'Segovia', 'Provincia Destino Name': 'Cantabria', 'Day Of Week': 'Miércoles', 'Month': 'Julio', 'Viajes': 45800}, {'Day': '29/07/2024', 'Provincia Origen Name': 'Ávila', 'Provincia Destino Name': 'Jaén', 'Day Of Week': 'Domingo', 'Month': 'Julio', 'Viajes': 7600}, {'Day': '30/07/2024', 'Provincia Origen Name': 'Huesca', 'Provincia Destino Name': 'Melilla', 'Day Of Week': 'Sábado', 'Month': 'Julio', 'Viajes': 19400}, {'Day': '31/07/2024', 'Provincia Origen Name': 'Teruel', 'Provincia Destino Name': 'Valencia', 'Day Of Week': 'Sábado', 'Month': 'Julio', 'Viajes': 2600}, {'Day': '01/08/2024', 'Provincia Origen Name': 'Madrid', 'Provincia Destino Name': 'Huelva', 'Day Of Week': 'Lunes', 'Month': 'Agosto', 'Viajes': 18800}, {'Day': '03/08/2024', 'Provincia Origen Name': 'Valencia', 'Provincia Destino Name': 'Córdoba', 'Day Of Week': 'Viernes', 'Month': 'Agosto', 'Viajes': 30100}, {'Day': '04/08/2024', 'Provincia Origen Name': 'Sevilla', 'Provincia Destino Name': 'Tarragona', 'Day Of Week': 'Miércoles', 'Month': 'Agosto', 'Viajes': 3000}, {'Day': '05/08/2024', 'Provincia Origen Name': 'Zaragoza', 'Provincia Destino Name': 'Badajoz', 'Day Of Week': 'Jueves', 'Month': 'Agosto', 'Viajes': 17600}, {'Day': '06/08/2024', 'Provincia Origen Name': 'Málaga', 'Provincia Destino Name': 'Girona', 'Day Of Week': 'Domingo', 'Month': 'Agosto', 'Viajes': 44500}, {'Day': '07/08/2024', 'Provincia Origen Name': 'Murcia', 'Provincia Destino Name': 'Tarragona', 'Day Of Week': 'Martes', 'Month': 'Agosto', 'Viajes': 13400}, {'Day': '08/08/2024', 'Provincia Origen Name': 'Alicante', 'Provincia Destino Name': 'Barcelona', 'Day Of Week': 'Sábado', 'Month': 'Agosto', 'Viajes': 17800}, {'Day': '09/08/2024', 'Provincia Origen Name': 'Cádiz', 'Provincia Destino Name': 'Lérida', 'Day Of Week': 'Jueves', 'Month': 'Agosto', 'Viajes': 28500}, {'Day': '10/08/2024', 'Provincia Origen Name': 'Granada', 'Provincia Destino Name': 'Málaga', 'Day Of Week': 'Lunes', 'Month': 'Agosto', 'Viajes': 39000}, {'Day': '11/08/2024', 'Provincia Origen Name': 'Toledo', 'Provincia Destino Name': 'Cádiz', 'Day Of Week': 'Domingo', 'Month': 'Agosto', 'Viajes': 8500}, {'Day': '12/08/2024', 'Provincia Origen Name': 'Salamanca', 'Provincia Destino Name': 'Girona', 'Day Of Week': 'Miércoles', 'Month': 'Agosto', 'Viajes': 17200}, {'Day': '13/08/2024', 'Provincia Origen Name': 'León', 'Provincia Destino Name': 'Madrid', 'Day Of Week': 'Viernes', 'Month': 'Agosto', 'Viajes': 45612}, {'Day': '14/08/2024', 'Provincia Origen Name': 'Burgos', 'Provincia Destino Name': 'Huelva', 'Day Of Week': 'Jueves', 'Month': 'Agosto', 'Viajes': 12100}, {'Day': '15/08/2024', 'Provincia Origen Name': 'La Coruña', 'Provincia Destino Name': 'Albacete', 'Day Of Week': 'Sábado', 'Month': 'Agosto', 'Viajes': 48700}, {'Day': '16/08/2024', 'Provincia Origen Name': 'Ourense', 'Provincia Destino Name': 'Burgos', 'Day Of Week': 'Martes', 'Month': 'Agosto', 'Viajes': 20000}, {'Day': '17/08/2024', 'Provincia Origen Name': 'Pontevedra', 'Provincia Destino Name': 'Jaén', 'Day Of Week': 'Lunes', 'Month': 'Agosto', 'Viajes': 9500}, {'Day': '18/08/2024', 'Provincia Origen Name': 'Lugo', 'Provincia Destino Name': 'Valencia', 'Day Of Week': 'Domingo', 'Month': 'Agosto', 'Viajes': 3000}, {'Day': '19/08/2024', 'Provincia Origen Name': 'Albacete', 'Provincia Destino Name': 'Granada', 'Day Of Week': 'Miércoles', 'Month': 'Agosto', 'Viajes': 45000}, {'Day': '20/08/2024', 'Provincia Origen Name': 'Ciudad Real', 'Provincia Destino Name': 'Tarragona', 'Day Of Week': 'Viernes', 'Month': 'Agosto', 'Viajes': 36780}, {'Day': '21/08/2024', 'Provincia Origen Name': 'Cuenca', 'Provincia Destino Name': 'León', 'Day Of Week': 'Sábado', 'Month': 'Agosto', 'Viajes': 48000}, {'Day': '22/08/2024', 'Provincia Origen Name': 'Guadalajara', 'Provincia Destino Name': 'Almería', 'Day Of Week': 'Jueves', 'Month': 'Agosto', 'Viajes': 3600}, {'Day': '23/08/2024', 'Provincia Origen Name': 'Soria', 'Provincia Destino Name': 'Ceuta', 'Day Of Week': 'Lunes', 'Month': 'Agosto', 'Viajes': 25500}, {'Day': '24/08/2024', 'Provincia Origen Name': 'Segovia', 'Provincia Destino Name': 'Tarragona', 'Day Of Week': 'Martes', 'Month': 'Agosto', 'Viajes': 18600}, {'Day': '25/08/2024', 'Provincia Origen Name': 'Ávila', 'Provincia Destino Name': 'Salamanca', 'Day Of Week': 'Domingo', 'Month': 'Agosto', 'Viajes': 50000}, {'Day': '26/08/2024', 'Provincia Origen Name': 'Cantabria', 'Provincia Destino Name': 'Barcelona', 'Day Of Week': 'Viernes', 'Month': 'Agosto', 'Viajes': 3000}, {'Day': '27/08/2024', 'Provincia Origen Name': 'Asturias', 'Provincia Destino Name': 'Huesca', 'Day Of Week': 'Miércoles', 'Month': 'Agosto', 'Viajes': 11200}, {'Day': '28/08/2024', 'Provincia Origen Name': 'Bilbao', 'Provincia Destino Name': 'Murcia', 'Day Of Week': 'Sábado', 'Month': 'Agosto', 'Viajes': 5300}, {'Day': '29/08/2024', 'Provincia Origen Name': 'Navarra', 'Provincia Destino Name': 'Girona', 'Day Of Week': 'Lunes', 'Month': 'Agosto', 'Viajes': 4500}, {'Day': '30/08/2024', 'Provincia Origen Name': 'La Rioja', 'Provincia Destino Name': 'Navarra', 'Day Of Week': 'Martes', 'Month': 'Agosto', 'Viajes': 23200}, {'Day': '31/08/2024', 'Provincia Origen Name': 'Huesca', 'Provincia Destino Name': 'La Rioja', 'Day Of Week': 'Jueves', 'Month': 'Agosto', 'Viajes': 3900}]\n"
     ]
    }
   ],
   "source": [
    "# List of provinces to discard\n",
    "catalan_provinces = ['Barcelona', 'Girona', 'Lérida', 'Tarragona']\n",
    "\n",
    "# Filter the DataFrame\n",
    "filtered_df = df[~df['Provincia Origen Name'].isin(catalan_provinces)]\n",
    "\n",
    "# Convert the filtered DataFrame to a list of dictionaries\n",
    "filtered_data = filtered_df.to_dict(orient='records')\n",
    "\n",
    "print(filtered_data)\n"
   ]
  },
  {
   "cell_type": "markdown",
   "metadata": {},
   "source": [
    "Ara, hauriem de filtrar les entrades d'aquesta nova llista que tinguin com a província destí una província de Catalunya:"
   ]
  },
  {
   "cell_type": "code",
   "execution_count": 15,
   "metadata": {},
   "outputs": [
    {
     "name": "stdout",
     "output_type": "stream",
     "text": [
      "            Day Provincia Origen Name Provincia Destino Name Day Of Week  \\\n",
      "0    01/05/2024                Madrid                 Girona      Sábado   \n",
      "2    03/05/2024              Valencia              Barcelona      Martes   \n",
      "3    04/05/2024               Sevilla                 Lérida     Viernes   \n",
      "6    07/05/2024                Murcia                 Girona     Domingo   \n",
      "14   15/05/2024             La Coruña              Tarragona      Jueves   \n",
      "18   19/05/2024              Albacete              Tarragona     Domingo   \n",
      "20   21/05/2024                Cuenca              Barcelona     Viernes   \n",
      "23   24/05/2024               Segovia                 Girona       Lunes   \n",
      "31   01/06/2024                Teruel              Tarragona      Jueves   \n",
      "34   04/06/2024               Badajoz                 Lérida   Miércoles   \n",
      "39   09/06/2024                Huelva                 Girona     Domingo   \n",
      "46   16/06/2024              Alicante              Barcelona     Domingo   \n",
      "52   22/06/2024              Zaragoza                 Girona      Jueves   \n",
      "57   27/06/2024                 Ávila              Tarragona      Martes   \n",
      "59   29/06/2024                 Soria                 Lérida   Miércoles   \n",
      "62   02/07/2024             Salamanca              Tarragona     Viernes   \n",
      "66   06/07/2024               Córdoba              Barcelona   Miércoles   \n",
      "68   08/07/2024               Almería                 Girona       Lunes   \n",
      "80   20/07/2024               Cáceres                 Girona      Martes   \n",
      "81   21/07/2024               Córdoba              Tarragona   Miércoles   \n",
      "82   22/07/2024                  Jaén                 Lérida     Domingo   \n",
      "95   04/08/2024               Sevilla              Tarragona   Miércoles   \n",
      "97   06/08/2024                Málaga                 Girona     Domingo   \n",
      "98   07/08/2024                Murcia              Tarragona      Martes   \n",
      "99   08/08/2024              Alicante              Barcelona      Sábado   \n",
      "100  09/08/2024                 Cádiz                 Lérida      Jueves   \n",
      "103  12/08/2024             Salamanca                 Girona   Miércoles   \n",
      "111  20/08/2024           Ciudad Real              Tarragona     Viernes   \n",
      "115  24/08/2024               Segovia              Tarragona      Martes   \n",
      "117  26/08/2024             Cantabria              Barcelona     Viernes   \n",
      "120  29/08/2024               Navarra                 Girona       Lunes   \n",
      "\n",
      "      Month  Viajes  \n",
      "0      Mayo   27050  \n",
      "2      Mayo    2980  \n",
      "3      Mayo    4123  \n",
      "6      Mayo   47890  \n",
      "14     Mayo   18900  \n",
      "18     Mayo   28700  \n",
      "20     Mayo   21500  \n",
      "23     Mayo   12800  \n",
      "31    Junio    3210  \n",
      "34    Junio   23000  \n",
      "39    Junio   45678  \n",
      "46    Junio   49012  \n",
      "52    Junio   10000  \n",
      "57    Junio    6780  \n",
      "59    Junio    2500  \n",
      "62    Julio   49000  \n",
      "66    Julio   35000  \n",
      "68    Julio    4560  \n",
      "80    Julio   43000  \n",
      "81    Julio    8000  \n",
      "82    Julio    2980  \n",
      "95   Agosto    3000  \n",
      "97   Agosto   44500  \n",
      "98   Agosto   13400  \n",
      "99   Agosto   17800  \n",
      "100  Agosto   28500  \n",
      "103  Agosto   17200  \n",
      "111  Agosto   36780  \n",
      "115  Agosto   18600  \n",
      "117  Agosto    3000  \n",
      "120  Agosto    4500  \n"
     ]
    }
   ],
   "source": [
    "# Filter the list\n",
    "filtered_df = filtered_df[filtered_df['Provincia Destino Name'].isin(catalan_provinces)]\n",
    "\n",
    "print(filtered_df)"
   ]
  },
  {
   "cell_type": "markdown",
   "metadata": {},
   "source": [
    "Obtenim les entrades que corresponguin a la 3a setmana d'agost (del 19 al 25):"
   ]
  },
  {
   "cell_type": "code",
   "execution_count": 17,
   "metadata": {},
   "outputs": [
    {
     "name": "stdout",
     "output_type": "stream",
     "text": [
      "            Day Provincia Origen Name Provincia Destino Name Day Of Week  \\\n",
      "111  20/08/2024           Ciudad Real              Tarragona     Viernes   \n",
      "115  24/08/2024               Segovia              Tarragona      Martes   \n",
      "\n",
      "      Month  Viajes  \n",
      "111  Agosto   36780  \n",
      "115  Agosto   18600  \n"
     ]
    }
   ],
   "source": [
    "# Filter the list for entries with 'Month' being 'Agosto'\n",
    "filtered_df = filtered_df[filtered_df['Month'] == 'Agosto']\n",
    "\n",
    "# Select the entries for the specified dates (between 19/08/2024 and 25/08/2024)\n",
    "filtered_df = filtered_df[(filtered_df['Day'] >= '19/08/2024') & (filtered_df['Day'] <= '25/08/2024')]\n",
    "\n",
    "print(filtered_df)\n"
   ]
  },
  {
   "cell_type": "markdown",
   "metadata": {},
   "source": [
    "Ara amb això podem fer un gràfic de quins són les províncies d'on ve més gent a Catalunya la 3a setmana d'agost:"
   ]
  },
  {
   "cell_type": "code",
   "execution_count": null,
   "metadata": {},
   "outputs": [],
   "source": [
    "\n",
    "# Count the number of entries for each province of origin\n",
    "\n",
    "# Sum the values of column 'Viajes' by 'Provincia Origen Name'\n",
    "\n",
    "# Plot the bar graph\n",
    "\n",
    "# Add title and labels\n",
    "\n",
    "# Annotate the bar graph with the values (optional)\n",
    "\n",
    "# Show the plot"
   ]
  },
  {
   "cell_type": "markdown",
   "metadata": {},
   "source": [
    "El podem mostrar ordenat per veure clarament de quines províncies ha vingut més gent:"
   ]
  },
  {
   "cell_type": "code",
   "execution_count": null,
   "metadata": {},
   "outputs": [],
   "source": [
    "# Sort the series by the number of trips\n",
    "\n",
    "# Plot the sorted bar graph\n",
    "\n",
    "# Add title and labels\n",
    "\n",
    "# Annotate the bar graph with the values (optional)\n",
    "\n",
    "# Show the plot"
   ]
  },
  {
   "cell_type": "markdown",
   "metadata": {},
   "source": [
    "Això és només un exemple de sortida que es pot obtenir treballant amb un dataset similar al que se us proporcionarà. Les possibilitats son moltes i estem segurs que en treureu profit!"
   ]
  }
 ],
 "metadata": {
  "kernelspec": {
   "display_name": "Python 3",
   "language": "python",
   "name": "python3"
  },
  "language_info": {
   "codemirror_mode": {
    "name": "ipython",
    "version": 3
   },
   "file_extension": ".py",
   "mimetype": "text/x-python",
   "name": "python",
   "nbconvert_exporter": "python",
   "pygments_lexer": "ipython3",
   "version": "3.12.2"
  }
 },
 "nbformat": 4,
 "nbformat_minor": 2
}
