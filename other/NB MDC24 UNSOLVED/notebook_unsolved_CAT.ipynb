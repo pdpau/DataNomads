{
 "cells": [
  {
   "cell_type": "markdown",
   "metadata": {},
   "source": [
    "# Mobile Data Challenge 2024\n",
    "## Notebook de prova\n",
    "\n",
    "En aquest challenge treballareu amb un gran dataset real i pot ser que mai hagueu treballat amb dades mitjançant codi. Us proporcionem un dataset de mostra similar a una extracció del que rebreu per part de Telefónica, amb dades aleatòries per l'objectiu de que dugueu a terme les següents activitats simples a partir d'elles. Les dades proporcionades són fictícies i només pel propòsit de simular unes activitats bàsiques, qualsevol similitud amb la realitat es només una coincidència. Els resultats que obtingueu poden no tenir sentit.\n",
    "\n",
    "El dataset es composa d'un CSV amb 6 columnes: \n",
    "1. Dia al que es refereix la medició (format DD/MM/AAAA)\n",
    "2. Nom de la província d'origen\n",
    "3. Nom de la província de destí\n",
    "4. Dia de la setmana\n",
    "5. Mes\n",
    "6. Número de conexions mòbils desplaçades d'origen a destí (nº de viatges)\n",
    "\n",
    "Per a que el notebook funcioni, el dataset s'ha de trobar al mateix directori que el notebook i sota el nom original \"testdata.csv\". Si heu canviat el nom del CSV, canvieu-lo també a la línea de codi del file_path que trobareu a sota."
   ]
  },
  {
   "cell_type": "code",
   "execution_count": null,
   "metadata": {},
   "outputs": [],
   "source": [
    "# Installs and imports\n",
    "!pip install pandas\n",
    "!pip install matplotlib\n",
    "import pandas as pd\n",
    "import matplotlib.pyplot as plt"
   ]
  },
  {
   "cell_type": "code",
   "execution_count": 4,
   "metadata": {},
   "outputs": [],
   "source": [
    "# Path to the CSV file (CSV SHOULD BE INSIDE SAME DIRECTORY AS NOTEBOOK)\n",
    "file_path = 'testdata.csv'\n",
    "\n",
    "# Read the CSV file into a DataFrame\n",
    "df = pd.read_csv(file_path, delimiter=';')"
   ]
  },
  {
   "cell_type": "code",
   "execution_count": null,
   "metadata": {},
   "outputs": [],
   "source": [
    "# Print columns for making sure read_csv worked\n",
    "print(df.info())"
   ]
  },
  {
   "cell_type": "markdown",
   "metadata": {},
   "source": [
    "Amb aquest dataset, per exemple ens agradaria obtenir les dades de quanta gent de fora ha vingut a Catalunya la 3a setmana d'agost (dies 19-25).\n",
    "\n",
    "Per això hem de filtrar aquelles entrades en les quals l'origen sigui alguna província de Catalunya (Barcelona, Girona, Lleida i Tarragona):"
   ]
  },
  {
   "cell_type": "code",
   "execution_count": null,
   "metadata": {},
   "outputs": [],
   "source": [
    "# List of provinces to discard\n",
    "\n",
    "# Filter the DataFrame\n",
    "\n",
    "# Convert the filtered DataFrame to a list of dictionaries\n"
   ]
  },
  {
   "cell_type": "markdown",
   "metadata": {},
   "source": [
    "Ara, hauriem de filtrar les entrades d'aquesta nova llista que tinguin com a província destí una província de Catalunya:"
   ]
  },
  {
   "cell_type": "code",
   "execution_count": null,
   "metadata": {},
   "outputs": [],
   "source": [
    "# Filter the list\n"
   ]
  },
  {
   "cell_type": "markdown",
   "metadata": {},
   "source": [
    "Obtenim les entrades que corresponguin a la 3a setmana d'agost (del 19 al 25):"
   ]
  },
  {
   "cell_type": "code",
   "execution_count": null,
   "metadata": {},
   "outputs": [],
   "source": [
    "# Filter the list for entries with 'Month' being 'Agosto'\n",
    "\n",
    "# Select the entries for the specified dates\n"
   ]
  },
  {
   "cell_type": "markdown",
   "metadata": {},
   "source": [
    "Ara amb això podem fer un gràfic de quins són les províncies d'on ve més gent a Catalunya la 3a setmana d'agost:"
   ]
  },
  {
   "cell_type": "code",
   "execution_count": null,
   "metadata": {},
   "outputs": [],
   "source": [
    "\n",
    "# Count the number of entries for each province of origin\n",
    "\n",
    "# Sum the values of column 'Viajes' by 'Provincia Origen Name'\n",
    "\n",
    "# Plot the bar graph\n",
    "\n",
    "# Add title and labels\n",
    "\n",
    "# Annotate the bar graph with the values (optional)\n",
    "\n",
    "# Show the plot"
   ]
  },
  {
   "cell_type": "markdown",
   "metadata": {},
   "source": [
    "El podem mostrar ordenat per veure clarament de quines províncies ha vingut més gent:"
   ]
  },
  {
   "cell_type": "code",
   "execution_count": null,
   "metadata": {},
   "outputs": [],
   "source": [
    "# Sort the series by the number of trips\n",
    "\n",
    "# Plot the sorted bar graph\n",
    "\n",
    "# Add title and labels\n",
    "\n",
    "# Annotate the bar graph with the values (optional)\n",
    "\n",
    "# Show the plot"
   ]
  },
  {
   "cell_type": "markdown",
   "metadata": {},
   "source": [
    "Això és només un exemple de sortida que es pot obtenir treballant amb un dataset similar al que se us proporcionarà. Les possibilitats son moltes i estem segurs que en treureu profit!"
   ]
  }
 ],
 "metadata": {
  "kernelspec": {
   "display_name": ".venv",
   "language": "python",
   "name": "python3"
  },
  "language_info": {
   "codemirror_mode": {
    "name": "ipython",
    "version": 3
   },
   "file_extension": ".py",
   "mimetype": "text/x-python",
   "name": "python",
   "nbconvert_exporter": "python",
   "pygments_lexer": "ipython3",
   "version": "3.12.3"
  }
 },
 "nbformat": 4,
 "nbformat_minor": 2
}
