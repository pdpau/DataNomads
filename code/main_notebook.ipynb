{
 "cells": [
  {
   "cell_type": "markdown",
   "metadata": {},
   "source": [
    "# Análisis y predicción de flujos de movilidad vacacional en España Peninsula-Islas"
   ]
  },
  {
   "cell_type": "markdown",
   "metadata": {},
   "source": [
    "## 0. Installs and Imports"
   ]
  },
  {
   "cell_type": "code",
   "execution_count": 1,
   "metadata": {},
   "outputs": [],
   "source": [
    "# Installs\n"
   ]
  },
  {
   "cell_type": "code",
   "execution_count": 2,
   "metadata": {},
   "outputs": [],
   "source": [
    "import numpy as np\n",
    "import pandas as pd\n",
    "import matplotlib.pyplot as plt"
   ]
  },
  {
   "cell_type": "markdown",
   "metadata": {},
   "source": [
    "## 1. Load Data"
   ]
  },
  {
   "cell_type": "code",
   "execution_count": 4,
   "metadata": {},
   "outputs": [],
   "source": [
    "path_2022 = \"../data/movilidad_provincias_2022.csv\"\n",
    "path_2023 = \"../data/movilidad_provincias_2023.csv\"\n",
    "path_2024 = \"../data/movilidad_provincias_2024.csv\"\n",
    "\n",
    "original_data_2022 = pd.read_csv(path_2022, sep=\",\")\n",
    "original_data_2023 = pd.read_csv(path_2023, sep=\",\")\n",
    "original_data_2024 = pd.read_csv(path_2024, sep=\",\")\n",
    "\n",
    "df_2022 = original_data_2022.copy()\n",
    "df_2023 = original_data_2023.copy()\n",
    "df_2024 = original_data_2024.copy()"
   ]
  },
  {
   "cell_type": "code",
   "execution_count": null,
   "metadata": {},
   "outputs": [],
   "source": [
    "df_2022.info()\n",
    "df_2022.head()"
   ]
  },
  {
   "cell_type": "markdown",
   "metadata": {},
   "source": [
    "## 2. Data Preparation"
   ]
  },
  {
   "cell_type": "markdown",
   "metadata": {},
   "source": [
    "### 2.1 Dataset Exploratory Data Analysis (EDA)"
   ]
  },
  {
   "cell_type": "code",
   "execution_count": null,
   "metadata": {},
   "outputs": [],
   "source": []
  },
  {
   "cell_type": "code",
   "execution_count": null,
   "metadata": {},
   "outputs": [],
   "source": [
    "# Definir dates rellevants\n",
    "summer_2023 = []\n",
    "summer_2024 = []\n",
    "easter_2023 = []\n",
    "easter_2024 = []\n",
    "christmas_2022 = []\n",
    "christmas_2023 = []\n",
    "national_holidays_2022 = []\n",
    "national_holidays_2023 = []\n",
    "national_holidays_2024 = []"
   ]
  },
  {
   "cell_type": "markdown",
   "metadata": {},
   "source": [
    "### 2.2 Data Wrangling\n",
    "All this process is known as **Data Wrangling**. In particular, the whole data wrangling process implies:\n",
    "- Define and apply an strategy for nulls and coding for categorical variables\n",
    "- Analyze the variables distribution and correlation between them\n",
    "- Remove outliers\n",
    "- etc...."
   ]
  },
  {
   "cell_type": "code",
   "execution_count": null,
   "metadata": {},
   "outputs": [],
   "source": []
  },
  {
   "cell_type": "markdown",
   "metadata": {},
   "source": [
    "## 3. Feature extraction"
   ]
  },
  {
   "cell_type": "code",
   "execution_count": null,
   "metadata": {},
   "outputs": [],
   "source": []
  },
  {
   "cell_type": "markdown",
   "metadata": {},
   "source": [
    "## 4. Model"
   ]
  },
  {
   "cell_type": "markdown",
   "metadata": {},
   "source": [
    "**Apunts EX7 lab7 AV**\n",
    "\n",
    "In order to build up the model and increase its efficiency, scale numerical variables to mean = 0 and std = 1.\n",
    "\n",
    "Tip: [StandardScaler()](https://scikit-learn.org/stable/modules/generated/sklearn.preprocessing.StandardScaler.html) Standardize features by removing the mean and scaling to unit variance"
   ]
  },
  {
   "cell_type": "code",
   "execution_count": null,
   "metadata": {},
   "outputs": [],
   "source": [
    "std = StandardScaler()\n",
    "to_scale_variables = []\n"
   ]
  },
  {
   "cell_type": "code",
   "execution_count": null,
   "metadata": {},
   "outputs": [],
   "source": []
  },
  {
   "cell_type": "markdown",
   "metadata": {},
   "source": [
    "## 5. Evaluation and Conclusions"
   ]
  },
  {
   "cell_type": "code",
   "execution_count": null,
   "metadata": {},
   "outputs": [],
   "source": [
    "# For classifier: Precision, recall, f1-score, accuracy, confusion matrix, DENSITY CHARTS, ...\n",
    "# For regressor: R2, RMSE, MAE, ...\n",
    "\n",
    "# Feature importance\n"
   ]
  }
 ],
 "metadata": {
  "kernelspec": {
   "display_name": "Python 3",
   "language": "python",
   "name": "python3"
  },
  "language_info": {
   "codemirror_mode": {
    "name": "ipython",
    "version": 3
   },
   "file_extension": ".py",
   "mimetype": "text/x-python",
   "name": "python",
   "nbconvert_exporter": "python",
   "pygments_lexer": "ipython3",
   "version": "3.12.2"
  }
 },
 "nbformat": 4,
 "nbformat_minor": 2
}
