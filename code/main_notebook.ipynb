{
 "cells": [
  {
   "cell_type": "markdown",
   "metadata": {},
   "source": [
    "# Análisis y predicción de flujos de movilidad vacacional en España Peninsula-Islas"
   ]
  },
  {
   "cell_type": "markdown",
   "metadata": {},
   "source": [
    "## 0. Installs and Imports"
   ]
  },
  {
   "cell_type": "code",
   "execution_count": 103,
   "metadata": {},
   "outputs": [],
   "source": [
    "# Installs\n",
    "#%pip install -q -U matplotlib numpy pandas scikit-learn seaborn\n",
    "#%pip install xgboost"
   ]
  },
  {
   "cell_type": "code",
   "execution_count": 104,
   "metadata": {},
   "outputs": [],
   "source": [
    "import numpy as np\n",
    "import pandas as pd\n",
    "import matplotlib.pyplot as plt\n",
    "import seaborn as sns\n",
    "\n",
    "import xgboost as xgb\n",
    "from xgboost import XGBRegressor\n",
    "\n",
    "from sklearn.preprocessing import LabelEncoder\n",
    "from sklearn.model_selection import train_test_split\n",
    "\n",
    "import pickle"
   ]
  },
  {
   "cell_type": "markdown",
   "metadata": {},
   "source": [
    "## 1. Load Data"
   ]
  },
  {
   "cell_type": "code",
   "execution_count": 105,
   "metadata": {},
   "outputs": [],
   "source": [
    "path_2022 = \"../data/movilidad_provincias_2022.csv\"\n",
    "path_2023 = \"../data/movilidad_provincias_2023.csv\"\n",
    "path_2024 = \"../data/movilidad_provincias_2024.csv\"\n",
    "\n",
    "original_data_2022 = pd.read_csv(path_2022, sep=\",\")\n",
    "original_data_2023 = pd.read_csv(path_2023, sep=\",\")\n",
    "original_data_2024 = pd.read_csv(path_2024, sep=\",\")\n",
    "\n",
    "df_2022 = original_data_2022.copy()\n",
    "df_2023 = original_data_2023.copy()\n",
    "df_2024 = original_data_2024.copy()\n",
    "\n",
    "df = pd.concat([df_2022, df_2023, df_2024])"
   ]
  },
  {
   "cell_type": "code",
   "execution_count": 106,
   "metadata": {},
   "outputs": [
    {
     "data": {
      "text/plain": [
       "' df_2022.info()\\ndf_2022.head() '"
      ]
     },
     "execution_count": 106,
     "metadata": {},
     "output_type": "execute_result"
    }
   ],
   "source": [
    "\"\"\" df_2022.info()\n",
    "df_2022.head() \"\"\""
   ]
  },
  {
   "cell_type": "markdown",
   "metadata": {},
   "source": [
    "## 2. Data Preparation"
   ]
  },
  {
   "cell_type": "markdown",
   "metadata": {},
   "source": [
    "### 2.1 Dataset Exploratory Data Analysis (EDA)"
   ]
  },
  {
   "cell_type": "code",
   "execution_count": 107,
   "metadata": {},
   "outputs": [],
   "source": [
    "# TODO: EDA (passar aqui del notebook del eda)"
   ]
  },
  {
   "cell_type": "markdown",
   "metadata": {},
   "source": [
    "### 2.2 Data Wrangling\n",
    "All this process is known as **Data Wrangling**. In particular, the whole data wrangling process implies:\n",
    "- Define and apply an strategy for nulls and coding for categorical variables\n",
    "- Analyze the variables distribution and correlation between them\n",
    "- Remove outliers\n",
    "- etc...."
   ]
  },
  {
   "cell_type": "code",
   "execution_count": 108,
   "metadata": {},
   "outputs": [],
   "source": [
    "# Data cleaning"
   ]
  },
  {
   "cell_type": "code",
   "execution_count": 109,
   "metadata": {},
   "outputs": [
    {
     "data": {
      "text/html": [
       "<div>\n",
       "<style scoped>\n",
       "    .dataframe tbody tr th:only-of-type {\n",
       "        vertical-align: middle;\n",
       "    }\n",
       "\n",
       "    .dataframe tbody tr th {\n",
       "        vertical-align: top;\n",
       "    }\n",
       "\n",
       "    .dataframe thead th {\n",
       "        text-align: right;\n",
       "    }\n",
       "</style>\n",
       "<table border=\"1\" class=\"dataframe\">\n",
       "  <thead>\n",
       "    <tr style=\"text-align: right;\">\n",
       "      <th></th>\n",
       "      <th>viajeros</th>\n",
       "      <th>viajes</th>\n",
       "      <th>provincia_origen</th>\n",
       "      <th>provincia_origen_name</th>\n",
       "      <th>provincia_destino</th>\n",
       "      <th>provincia_destino_name</th>\n",
       "      <th>day</th>\n",
       "    </tr>\n",
       "  </thead>\n",
       "  <tbody>\n",
       "    <tr>\n",
       "      <th>3</th>\n",
       "      <td>15</td>\n",
       "      <td>15</td>\n",
       "      <td>2</td>\n",
       "      <td>Albacete</td>\n",
       "      <td>7</td>\n",
       "      <td>Balears, Illes</td>\n",
       "      <td>2022-09-01</td>\n",
       "    </tr>\n",
       "    <tr>\n",
       "      <th>25</th>\n",
       "      <td>118</td>\n",
       "      <td>123</td>\n",
       "      <td>2</td>\n",
       "      <td>Albacete</td>\n",
       "      <td>35</td>\n",
       "      <td>Palmas, Las</td>\n",
       "      <td>2022-09-01</td>\n",
       "    </tr>\n",
       "    <tr>\n",
       "      <th>26</th>\n",
       "      <td>88</td>\n",
       "      <td>92</td>\n",
       "      <td>2</td>\n",
       "      <td>Albacete</td>\n",
       "      <td>38</td>\n",
       "      <td>Santa Cruz de Tenerife</td>\n",
       "      <td>2022-09-01</td>\n",
       "    </tr>\n",
       "    <tr>\n",
       "      <th>39</th>\n",
       "      <td>3026</td>\n",
       "      <td>3073</td>\n",
       "      <td>3</td>\n",
       "      <td>Alicante</td>\n",
       "      <td>7</td>\n",
       "      <td>Balears, Illes</td>\n",
       "      <td>2022-09-01</td>\n",
       "    </tr>\n",
       "    <tr>\n",
       "      <th>64</th>\n",
       "      <td>110</td>\n",
       "      <td>143</td>\n",
       "      <td>3</td>\n",
       "      <td>Alicante</td>\n",
       "      <td>35</td>\n",
       "      <td>Palmas, Las</td>\n",
       "      <td>2022-09-01</td>\n",
       "    </tr>\n",
       "    <tr>\n",
       "      <th>...</th>\n",
       "      <td>...</td>\n",
       "      <td>...</td>\n",
       "      <td>...</td>\n",
       "      <td>...</td>\n",
       "      <td>...</td>\n",
       "      <td>...</td>\n",
       "      <td>...</td>\n",
       "    </tr>\n",
       "    <tr>\n",
       "      <th>486703</th>\n",
       "      <td>117</td>\n",
       "      <td>119</td>\n",
       "      <td>47</td>\n",
       "      <td>Valladolid</td>\n",
       "      <td>35</td>\n",
       "      <td>Palmas, Las</td>\n",
       "      <td>2024-09-30</td>\n",
       "    </tr>\n",
       "    <tr>\n",
       "      <th>486749</th>\n",
       "      <td>510</td>\n",
       "      <td>517</td>\n",
       "      <td>50</td>\n",
       "      <td>Zaragoza</td>\n",
       "      <td>7</td>\n",
       "      <td>Balears, Illes</td>\n",
       "      <td>2024-09-30</td>\n",
       "    </tr>\n",
       "    <tr>\n",
       "      <th>486774</th>\n",
       "      <td>110</td>\n",
       "      <td>116</td>\n",
       "      <td>50</td>\n",
       "      <td>Zaragoza</td>\n",
       "      <td>35</td>\n",
       "      <td>Palmas, Las</td>\n",
       "      <td>2024-09-30</td>\n",
       "    </tr>\n",
       "    <tr>\n",
       "      <th>486805</th>\n",
       "      <td>29</td>\n",
       "      <td>36</td>\n",
       "      <td>5</td>\n",
       "      <td>Ávila</td>\n",
       "      <td>35</td>\n",
       "      <td>Palmas, Las</td>\n",
       "      <td>2024-09-30</td>\n",
       "    </tr>\n",
       "    <tr>\n",
       "      <th>486808</th>\n",
       "      <td>70</td>\n",
       "      <td>82</td>\n",
       "      <td>5</td>\n",
       "      <td>Ávila</td>\n",
       "      <td>38</td>\n",
       "      <td>Santa Cruz de Tenerife</td>\n",
       "      <td>2024-09-30</td>\n",
       "    </tr>\n",
       "  </tbody>\n",
       "</table>\n",
       "<p>86525 rows × 7 columns</p>\n",
       "</div>"
      ],
      "text/plain": [
       "        viajeros  viajes  provincia_origen provincia_origen_name  \\\n",
       "3             15      15                 2              Albacete   \n",
       "25           118     123                 2              Albacete   \n",
       "26            88      92                 2              Albacete   \n",
       "39          3026    3073                 3              Alicante   \n",
       "64           110     143                 3              Alicante   \n",
       "...          ...     ...               ...                   ...   \n",
       "486703       117     119                47            Valladolid   \n",
       "486749       510     517                50              Zaragoza   \n",
       "486774       110     116                50              Zaragoza   \n",
       "486805        29      36                 5                 Ávila   \n",
       "486808        70      82                 5                 Ávila   \n",
       "\n",
       "        provincia_destino  provincia_destino_name         day  \n",
       "3                       7          Balears, Illes  2022-09-01  \n",
       "25                     35             Palmas, Las  2022-09-01  \n",
       "26                     38  Santa Cruz de Tenerife  2022-09-01  \n",
       "39                      7          Balears, Illes  2022-09-01  \n",
       "64                     35             Palmas, Las  2022-09-01  \n",
       "...                   ...                     ...         ...  \n",
       "486703                 35             Palmas, Las  2024-09-30  \n",
       "486749                  7          Balears, Illes  2024-09-30  \n",
       "486774                 35             Palmas, Las  2024-09-30  \n",
       "486805                 35             Palmas, Las  2024-09-30  \n",
       "486808                 38  Santa Cruz de Tenerife  2024-09-30  \n",
       "\n",
       "[86525 rows x 7 columns]"
      ]
     },
     "execution_count": 109,
     "metadata": {},
     "output_type": "execute_result"
    }
   ],
   "source": [
    "# DATA FILTERING\n",
    "# Keep only the rows with destination province = ['Balears, Illes', 'Palmas, Las', 'Santa Cruz de Tenerife']\n",
    "insular_provinces = ['Balears, Illes', 'Palmas, Las', 'Santa Cruz de Tenerife']\n",
    "df = df[df['provincia_destino_name'].isin(insular_provinces)]\n",
    "df"
   ]
  },
  {
   "cell_type": "markdown",
   "metadata": {},
   "source": [
    "## 3. Feature extraction"
   ]
  },
  {
   "cell_type": "code",
   "execution_count": 110,
   "metadata": {},
   "outputs": [
    {
     "data": {
      "text/html": [
       "<div>\n",
       "<style scoped>\n",
       "    .dataframe tbody tr th:only-of-type {\n",
       "        vertical-align: middle;\n",
       "    }\n",
       "\n",
       "    .dataframe tbody tr th {\n",
       "        vertical-align: top;\n",
       "    }\n",
       "\n",
       "    .dataframe thead th {\n",
       "        text-align: right;\n",
       "    }\n",
       "</style>\n",
       "<table border=\"1\" class=\"dataframe\">\n",
       "  <thead>\n",
       "    <tr style=\"text-align: right;\">\n",
       "      <th></th>\n",
       "      <th>viajeros</th>\n",
       "      <th>viajes</th>\n",
       "      <th>provincia_origen</th>\n",
       "      <th>provincia_origen_name</th>\n",
       "      <th>provincia_destino</th>\n",
       "      <th>provincia_destino_name</th>\n",
       "      <th>date</th>\n",
       "      <th>day_of_week</th>\n",
       "      <th>month</th>\n",
       "      <th>year</th>\n",
       "    </tr>\n",
       "  </thead>\n",
       "  <tbody>\n",
       "    <tr>\n",
       "      <th>3</th>\n",
       "      <td>15</td>\n",
       "      <td>15</td>\n",
       "      <td>2</td>\n",
       "      <td>Albacete</td>\n",
       "      <td>7</td>\n",
       "      <td>Balears, Illes</td>\n",
       "      <td>2022-09-01</td>\n",
       "      <td>Thursday</td>\n",
       "      <td>9</td>\n",
       "      <td>2022</td>\n",
       "    </tr>\n",
       "    <tr>\n",
       "      <th>25</th>\n",
       "      <td>118</td>\n",
       "      <td>123</td>\n",
       "      <td>2</td>\n",
       "      <td>Albacete</td>\n",
       "      <td>35</td>\n",
       "      <td>Palmas, Las</td>\n",
       "      <td>2022-09-01</td>\n",
       "      <td>Thursday</td>\n",
       "      <td>9</td>\n",
       "      <td>2022</td>\n",
       "    </tr>\n",
       "    <tr>\n",
       "      <th>26</th>\n",
       "      <td>88</td>\n",
       "      <td>92</td>\n",
       "      <td>2</td>\n",
       "      <td>Albacete</td>\n",
       "      <td>38</td>\n",
       "      <td>Santa Cruz de Tenerife</td>\n",
       "      <td>2022-09-01</td>\n",
       "      <td>Thursday</td>\n",
       "      <td>9</td>\n",
       "      <td>2022</td>\n",
       "    </tr>\n",
       "    <tr>\n",
       "      <th>39</th>\n",
       "      <td>3026</td>\n",
       "      <td>3073</td>\n",
       "      <td>3</td>\n",
       "      <td>Alicante</td>\n",
       "      <td>7</td>\n",
       "      <td>Balears, Illes</td>\n",
       "      <td>2022-09-01</td>\n",
       "      <td>Thursday</td>\n",
       "      <td>9</td>\n",
       "      <td>2022</td>\n",
       "    </tr>\n",
       "    <tr>\n",
       "      <th>64</th>\n",
       "      <td>110</td>\n",
       "      <td>143</td>\n",
       "      <td>3</td>\n",
       "      <td>Alicante</td>\n",
       "      <td>35</td>\n",
       "      <td>Palmas, Las</td>\n",
       "      <td>2022-09-01</td>\n",
       "      <td>Thursday</td>\n",
       "      <td>9</td>\n",
       "      <td>2022</td>\n",
       "    </tr>\n",
       "    <tr>\n",
       "      <th>...</th>\n",
       "      <td>...</td>\n",
       "      <td>...</td>\n",
       "      <td>...</td>\n",
       "      <td>...</td>\n",
       "      <td>...</td>\n",
       "      <td>...</td>\n",
       "      <td>...</td>\n",
       "      <td>...</td>\n",
       "      <td>...</td>\n",
       "      <td>...</td>\n",
       "    </tr>\n",
       "    <tr>\n",
       "      <th>486703</th>\n",
       "      <td>117</td>\n",
       "      <td>119</td>\n",
       "      <td>47</td>\n",
       "      <td>Valladolid</td>\n",
       "      <td>35</td>\n",
       "      <td>Palmas, Las</td>\n",
       "      <td>2024-09-30</td>\n",
       "      <td>Monday</td>\n",
       "      <td>9</td>\n",
       "      <td>2024</td>\n",
       "    </tr>\n",
       "    <tr>\n",
       "      <th>486749</th>\n",
       "      <td>510</td>\n",
       "      <td>517</td>\n",
       "      <td>50</td>\n",
       "      <td>Zaragoza</td>\n",
       "      <td>7</td>\n",
       "      <td>Balears, Illes</td>\n",
       "      <td>2024-09-30</td>\n",
       "      <td>Monday</td>\n",
       "      <td>9</td>\n",
       "      <td>2024</td>\n",
       "    </tr>\n",
       "    <tr>\n",
       "      <th>486774</th>\n",
       "      <td>110</td>\n",
       "      <td>116</td>\n",
       "      <td>50</td>\n",
       "      <td>Zaragoza</td>\n",
       "      <td>35</td>\n",
       "      <td>Palmas, Las</td>\n",
       "      <td>2024-09-30</td>\n",
       "      <td>Monday</td>\n",
       "      <td>9</td>\n",
       "      <td>2024</td>\n",
       "    </tr>\n",
       "    <tr>\n",
       "      <th>486805</th>\n",
       "      <td>29</td>\n",
       "      <td>36</td>\n",
       "      <td>5</td>\n",
       "      <td>Ávila</td>\n",
       "      <td>35</td>\n",
       "      <td>Palmas, Las</td>\n",
       "      <td>2024-09-30</td>\n",
       "      <td>Monday</td>\n",
       "      <td>9</td>\n",
       "      <td>2024</td>\n",
       "    </tr>\n",
       "    <tr>\n",
       "      <th>486808</th>\n",
       "      <td>70</td>\n",
       "      <td>82</td>\n",
       "      <td>5</td>\n",
       "      <td>Ávila</td>\n",
       "      <td>38</td>\n",
       "      <td>Santa Cruz de Tenerife</td>\n",
       "      <td>2024-09-30</td>\n",
       "      <td>Monday</td>\n",
       "      <td>9</td>\n",
       "      <td>2024</td>\n",
       "    </tr>\n",
       "  </tbody>\n",
       "</table>\n",
       "<p>86525 rows × 10 columns</p>\n",
       "</div>"
      ],
      "text/plain": [
       "        viajeros  viajes  provincia_origen provincia_origen_name  \\\n",
       "3             15      15                 2              Albacete   \n",
       "25           118     123                 2              Albacete   \n",
       "26            88      92                 2              Albacete   \n",
       "39          3026    3073                 3              Alicante   \n",
       "64           110     143                 3              Alicante   \n",
       "...          ...     ...               ...                   ...   \n",
       "486703       117     119                47            Valladolid   \n",
       "486749       510     517                50              Zaragoza   \n",
       "486774       110     116                50              Zaragoza   \n",
       "486805        29      36                 5                 Ávila   \n",
       "486808        70      82                 5                 Ávila   \n",
       "\n",
       "        provincia_destino  provincia_destino_name       date day_of_week  \\\n",
       "3                       7          Balears, Illes 2022-09-01    Thursday   \n",
       "25                     35             Palmas, Las 2022-09-01    Thursday   \n",
       "26                     38  Santa Cruz de Tenerife 2022-09-01    Thursday   \n",
       "39                      7          Balears, Illes 2022-09-01    Thursday   \n",
       "64                     35             Palmas, Las 2022-09-01    Thursday   \n",
       "...                   ...                     ...        ...         ...   \n",
       "486703                 35             Palmas, Las 2024-09-30      Monday   \n",
       "486749                  7          Balears, Illes 2024-09-30      Monday   \n",
       "486774                 35             Palmas, Las 2024-09-30      Monday   \n",
       "486805                 35             Palmas, Las 2024-09-30      Monday   \n",
       "486808                 38  Santa Cruz de Tenerife 2024-09-30      Monday   \n",
       "\n",
       "        month  year  \n",
       "3           9  2022  \n",
       "25          9  2022  \n",
       "26          9  2022  \n",
       "39          9  2022  \n",
       "64          9  2022  \n",
       "...       ...   ...  \n",
       "486703      9  2024  \n",
       "486749      9  2024  \n",
       "486774      9  2024  \n",
       "486805      9  2024  \n",
       "486808      9  2024  \n",
       "\n",
       "[86525 rows x 10 columns]"
      ]
     },
     "execution_count": 110,
     "metadata": {},
     "output_type": "execute_result"
    }
   ],
   "source": [
    "features_df = df.copy()\n",
    "\n",
    "# Add two new columns, day_of_week and month\n",
    "features_df['date'] = pd.to_datetime(features_df['day'])\n",
    "features_df['day_of_week'] = features_df['date'].dt.day_name()\n",
    "features_df['month'] = features_df['date'].dt.month\n",
    "features_df['year'] = features_df['date'].dt.year\n",
    "features_df.drop(columns=['day'], inplace=True)\n",
    "\n",
    "features_df"
   ]
  },
  {
   "cell_type": "code",
   "execution_count": 111,
   "metadata": {},
   "outputs": [
    {
     "data": {
      "text/html": [
       "<div>\n",
       "<style scoped>\n",
       "    .dataframe tbody tr th:only-of-type {\n",
       "        vertical-align: middle;\n",
       "    }\n",
       "\n",
       "    .dataframe tbody tr th {\n",
       "        vertical-align: top;\n",
       "    }\n",
       "\n",
       "    .dataframe thead th {\n",
       "        text-align: right;\n",
       "    }\n",
       "</style>\n",
       "<table border=\"1\" class=\"dataframe\">\n",
       "  <thead>\n",
       "    <tr style=\"text-align: right;\">\n",
       "      <th></th>\n",
       "      <th>date</th>\n",
       "      <th>provincia_destino_name</th>\n",
       "      <th>day_of_week</th>\n",
       "      <th>month</th>\n",
       "      <th>year</th>\n",
       "      <th>viajes</th>\n",
       "    </tr>\n",
       "  </thead>\n",
       "  <tbody>\n",
       "    <tr>\n",
       "      <th>0</th>\n",
       "      <td>2022-09-01</td>\n",
       "      <td>Balears, Illes</td>\n",
       "      <td>Thursday</td>\n",
       "      <td>9</td>\n",
       "      <td>2022</td>\n",
       "      <td>27489</td>\n",
       "    </tr>\n",
       "    <tr>\n",
       "      <th>1</th>\n",
       "      <td>2022-09-01</td>\n",
       "      <td>Palmas, Las</td>\n",
       "      <td>Thursday</td>\n",
       "      <td>9</td>\n",
       "      <td>2022</td>\n",
       "      <td>17094</td>\n",
       "    </tr>\n",
       "    <tr>\n",
       "      <th>2</th>\n",
       "      <td>2022-09-01</td>\n",
       "      <td>Santa Cruz de Tenerife</td>\n",
       "      <td>Thursday</td>\n",
       "      <td>9</td>\n",
       "      <td>2022</td>\n",
       "      <td>14233</td>\n",
       "    </tr>\n",
       "    <tr>\n",
       "      <th>3</th>\n",
       "      <td>2022-09-02</td>\n",
       "      <td>Balears, Illes</td>\n",
       "      <td>Friday</td>\n",
       "      <td>9</td>\n",
       "      <td>2022</td>\n",
       "      <td>29444</td>\n",
       "    </tr>\n",
       "    <tr>\n",
       "      <th>4</th>\n",
       "      <td>2022-09-02</td>\n",
       "      <td>Palmas, Las</td>\n",
       "      <td>Friday</td>\n",
       "      <td>9</td>\n",
       "      <td>2022</td>\n",
       "      <td>16292</td>\n",
       "    </tr>\n",
       "    <tr>\n",
       "      <th>...</th>\n",
       "      <td>...</td>\n",
       "      <td>...</td>\n",
       "      <td>...</td>\n",
       "      <td>...</td>\n",
       "      <td>...</td>\n",
       "      <td>...</td>\n",
       "    </tr>\n",
       "    <tr>\n",
       "      <th>2275</th>\n",
       "      <td>2024-09-29</td>\n",
       "      <td>Palmas, Las</td>\n",
       "      <td>Sunday</td>\n",
       "      <td>9</td>\n",
       "      <td>2024</td>\n",
       "      <td>18728</td>\n",
       "    </tr>\n",
       "    <tr>\n",
       "      <th>2276</th>\n",
       "      <td>2024-09-29</td>\n",
       "      <td>Santa Cruz de Tenerife</td>\n",
       "      <td>Sunday</td>\n",
       "      <td>9</td>\n",
       "      <td>2024</td>\n",
       "      <td>17824</td>\n",
       "    </tr>\n",
       "    <tr>\n",
       "      <th>2277</th>\n",
       "      <td>2024-09-30</td>\n",
       "      <td>Balears, Illes</td>\n",
       "      <td>Monday</td>\n",
       "      <td>9</td>\n",
       "      <td>2024</td>\n",
       "      <td>26655</td>\n",
       "    </tr>\n",
       "    <tr>\n",
       "      <th>2278</th>\n",
       "      <td>2024-09-30</td>\n",
       "      <td>Palmas, Las</td>\n",
       "      <td>Monday</td>\n",
       "      <td>9</td>\n",
       "      <td>2024</td>\n",
       "      <td>19614</td>\n",
       "    </tr>\n",
       "    <tr>\n",
       "      <th>2279</th>\n",
       "      <td>2024-09-30</td>\n",
       "      <td>Santa Cruz de Tenerife</td>\n",
       "      <td>Monday</td>\n",
       "      <td>9</td>\n",
       "      <td>2024</td>\n",
       "      <td>18937</td>\n",
       "    </tr>\n",
       "  </tbody>\n",
       "</table>\n",
       "<p>2280 rows × 6 columns</p>\n",
       "</div>"
      ],
      "text/plain": [
       "           date  provincia_destino_name day_of_week  month  year  viajes\n",
       "0    2022-09-01          Balears, Illes    Thursday      9  2022   27489\n",
       "1    2022-09-01             Palmas, Las    Thursday      9  2022   17094\n",
       "2    2022-09-01  Santa Cruz de Tenerife    Thursday      9  2022   14233\n",
       "3    2022-09-02          Balears, Illes      Friday      9  2022   29444\n",
       "4    2022-09-02             Palmas, Las      Friday      9  2022   16292\n",
       "...         ...                     ...         ...    ...   ...     ...\n",
       "2275 2024-09-29             Palmas, Las      Sunday      9  2024   18728\n",
       "2276 2024-09-29  Santa Cruz de Tenerife      Sunday      9  2024   17824\n",
       "2277 2024-09-30          Balears, Illes      Monday      9  2024   26655\n",
       "2278 2024-09-30             Palmas, Las      Monday      9  2024   19614\n",
       "2279 2024-09-30  Santa Cruz de Tenerife      Monday      9  2024   18937\n",
       "\n",
       "[2280 rows x 6 columns]"
      ]
     },
     "execution_count": 111,
     "metadata": {},
     "output_type": "execute_result"
    }
   ],
   "source": [
    "# Sum all the trips to the same destination province\n",
    "total_llegadas_islas = features_df.groupby(['date', 'provincia_destino_name', 'day_of_week', 'month', 'year'])['viajes'].sum().reset_index()\n",
    "total_llegadas_islas"
   ]
  },
  {
   "cell_type": "code",
   "execution_count": 112,
   "metadata": {},
   "outputs": [],
   "source": [
    "# Export to csv for the web app\n",
    "data_to_export = total_llegadas_islas.copy()"
   ]
  },
  {
   "cell_type": "markdown",
   "metadata": {},
   "source": [
    "## 3.3 Prova amb tipus de transport (descartat)"
   ]
  },
  {
   "cell_type": "code",
   "execution_count": 113,
   "metadata": {},
   "outputs": [
    {
     "data": {
      "text/plain": [
       "\" # Agrupar numeros de viajes por mes\\ntotal_llegadas_islas_mes = total_llegadas_islas.groupby(['provincia_destino_name', 'month', 'year'])['viajes'].sum().reset_index()\\ntotal_llegadas_islas_mes_baleares = total_llegadas_islas_mes[total_llegadas_islas_mes['provincia_destino_name'] == 'Balears, Illes']\\ntotal_llegadas_islas_mes_baleares[total_llegadas_islas_mes_baleares['year'] == 2023] \""
      ]
     },
     "execution_count": 113,
     "metadata": {},
     "output_type": "execute_result"
    }
   ],
   "source": [
    "\"\"\" # Agrupar numeros de viajes por mes\n",
    "total_llegadas_islas_mes = total_llegadas_islas.groupby(['provincia_destino_name', 'month', 'year'])['viajes'].sum().reset_index()\n",
    "total_llegadas_islas_mes_baleares = total_llegadas_islas_mes[total_llegadas_islas_mes['provincia_destino_name'] == 'Balears, Illes']\n",
    "total_llegadas_islas_mes_baleares[total_llegadas_islas_mes_baleares['year'] == 2023] \"\"\""
   ]
  },
  {
   "cell_type": "code",
   "execution_count": 114,
   "metadata": {},
   "outputs": [
    {
     "data": {
      "text/plain": [
       "' # Cargar trafico aereo baleares\\ntrafico_baleares_2023 = \"../data/trafico_aereo/trafico_aereo_baleares_2023.csv\"\\ndf_bal_2023 = pd.read_csv(trafico_baleares_2023, sep=\",\", encoding=\\'utf-16le\\')\\n\\n#df_bal_2023.info()\\n# Pasar de object a int\\ndf_bal_2023[\\'Actual\\'] = df_bal_2023[\\'Actual\\'].str.replace(\\'.\\', \\'\\').astype(int)\\n#df_bal_2023[\\'Mes           \\'] = df_bal_2023[\\'Mes           \\'].str.strip()\\n\\ndf_bal_2023.head()\\n\\n# Grafico de trafico aereo en baleares\\nplt.figure(figsize=(12, 6))\\nplt.hist(df_bal_2023[\\'Actual\\'], df_bal_2023[\\'Mes           \\'])\\nplt.title(\\'Trafico aereo en Baleares 2023\\')\\nplt.xlabel(\\'Pasajeros\\')\\nplt.ylabel(\\'Mes\\')\\nplt.show() '"
      ]
     },
     "execution_count": 114,
     "metadata": {},
     "output_type": "execute_result"
    }
   ],
   "source": [
    "\"\"\" # Cargar trafico aereo baleares\n",
    "trafico_baleares_2023 = \"../data/trafico_aereo/trafico_aereo_baleares_2023.csv\"\n",
    "df_bal_2023 = pd.read_csv(trafico_baleares_2023, sep=\",\", encoding='utf-16le')\n",
    "\n",
    "#df_bal_2023.info()\n",
    "# Pasar de object a int\n",
    "df_bal_2023['Actual'] = df_bal_2023['Actual'].str.replace('.', '').astype(int)\n",
    "#df_bal_2023['Mes           '] = df_bal_2023['Mes           '].str.strip()\n",
    "\n",
    "df_bal_2023.head()\n",
    "\n",
    "# Grafico de trafico aereo en baleares\n",
    "plt.figure(figsize=(12, 6))\n",
    "plt.hist(df_bal_2023['Actual'], df_bal_2023['Mes           '])\n",
    "plt.title('Trafico aereo en Baleares 2023')\n",
    "plt.xlabel('Pasajeros')\n",
    "plt.ylabel('Mes')\n",
    "plt.show() \"\"\""
   ]
  },
  {
   "cell_type": "markdown",
   "metadata": {},
   "source": [
    "## 4. Model"
   ]
  },
  {
   "cell_type": "code",
   "execution_count": 115,
   "metadata": {},
   "outputs": [],
   "source": [
    "df1 = total_llegadas_islas.copy()\n",
    "df1.drop(columns=['date'], inplace=True)\n",
    "df1.drop(columns=['year'], inplace=True)"
   ]
  },
  {
   "cell_type": "code",
   "execution_count": 116,
   "metadata": {},
   "outputs": [],
   "source": [
    "# Label encoding\n",
    "le_day_of_week = LabelEncoder()\n",
    "df1['day_of_week'] = le_day_of_week.fit_transform(df1['day_of_week'])\n",
    "le_provincia_destino_name = LabelEncoder()\n",
    "df1['provincia_destino_name'] = le_provincia_destino_name.fit_transform(df1['provincia_destino_name'])"
   ]
  },
  {
   "cell_type": "markdown",
   "metadata": {},
   "source": [
    "### 4.1 Model Selection"
   ]
  },
  {
   "cell_type": "code",
   "execution_count": 117,
   "metadata": {},
   "outputs": [
    {
     "data": {
      "text/plain": [
       "(1710, 570, 1710, 570)"
      ]
     },
     "execution_count": 117,
     "metadata": {},
     "output_type": "execute_result"
    }
   ],
   "source": [
    "features = df1.drop(columns=['viajes'])\n",
    "target = df1['viajes']\n",
    "\n",
    "X = features\n",
    "y = target\n",
    "\n",
    "# Train test split\n",
    "X_train, X_test, y_train, y_test = train_test_split(X, y, test_size=0.25, random_state=42)\n",
    "len(X_train), len(X_test), len(y_train), len(y_test)"
   ]
  },
  {
   "cell_type": "code",
   "execution_count": 118,
   "metadata": {},
   "outputs": [],
   "source": [
    "final_model = XGBRegressor(learning_rate=0.1, n_estimators=200, max_depth=3)\n",
    "final_model.fit(X_train, y_train)\n",
    "y_pred_final_model = final_model.predict(X_test)"
   ]
  },
  {
   "cell_type": "markdown",
   "metadata": {},
   "source": [
    "### 4.2 Model results visualization"
   ]
  },
  {
   "cell_type": "code",
   "execution_count": 125,
   "metadata": {},
   "outputs": [],
   "source": [
    "# Predicción de datos fake\n",
    "isla = 'Balears, Illes'\n",
    "dia = 'Wednesday'\n",
    "mes = 7\n",
    "\n",
    "fake_data = pd.DataFrame({'provincia_destino_name': [isla], 'day_of_week': [dia], 'month': [mes]})\n",
    "\n",
    "fake_data['day_of_week'] = le_day_of_week.transform(fake_data['day_of_week'])\n",
    "fake_data['provincia_destino_name'] = le_provincia_destino_name.transform(fake_data['provincia_destino_name'])\n",
    "\n",
    "#fake_data"
   ]
  },
  {
   "cell_type": "code",
   "execution_count": null,
   "metadata": {},
   "outputs": [
    {
     "name": "stdout",
     "output_type": "stream",
     "text": [
      "--------------------\n",
      "XGBoost: [29365.842]\n",
      "--------------------\n"
     ]
    },
    {
     "name": "stderr",
     "output_type": "stream",
     "text": [
      "C:\\Users\\pdpau\\AppData\\Local\\Temp\\ipykernel_24212\\1970498129.py:17: DeprecationWarning: Conversion of an array with ndim > 0 to a scalar is deprecated, and will error in future. Ensure you extract a single element from your array before performing this operation. (Deprecated NumPy 1.25.)\n",
      "  ax.bar(x_pos, int(y_pred_fake), color=\"red\", label=\"Predicción\")\n"
     ]
    },
    {
     "data": {
      "image/png": "[encoded data removed]",
      "text/plain": [
       "<Figure size 1000x600 with 1 Axes>"
      ]
     },
     "metadata": {},
     "output_type": "display_data"
    },
    {
     "name": "stdout",
     "output_type": "stream",
     "text": [
      "Media de viajes a Balears, Illes los Wednesday de 7: 29259.11111111111\n"
     ]
    }
   ],
   "source": [
    "# --- Predicción de datos de muestra ---\n",
    "y_pred_fake = final_model.predict(fake_data)\n",
    "print(\"--------------------\")\n",
    "print(f\"XGBoost: {y_pred_fake}\")\n",
    "print(\"--------------------\")\n",
    "\n",
    "# -- Plot --\n",
    "u = total_llegadas_islas.copy()\n",
    "data_to_plot = u[(u[\"day_of_week\"] == dia) & (u[\"month\"] == mes) & (u[\"provincia_destino_name\"] == isla)]\n",
    "\n",
    "# --- Visualización datos reales ---\n",
    "plt.figure(figsize=(10, 6))\n",
    "ax = sns.barplot(data=data_to_plot, x=\"date\", y=\"viajes\")\n",
    "\n",
    "# Añadir columna de predicción\n",
    "x_pos = len(data_to_plot)\n",
    "ax.bar(x_pos, int(y_pred_fake), color=\"red\")\n",
    "\n",
    "for i in ax.containers:\n",
    "    ax.bar_label(i, padding=3)\n",
    "\n",
    "plt.title(f\"Número de viajes a {isla} los {dia} de {mes}\")\n",
    "plt.xticks(rotation=45)\n",
    "plt.tight_layout()\n",
    "plt.show()\n",
    "\n",
    "# Media de viajes\n",
    "media_viajes = data_to_plot['viajes'].mean()\n",
    "print(f\"Media de viajes a {isla} los {dia} de {mes}: {media_viajes}\")\n"
   ]
  },
  {
   "cell_type": "markdown",
   "metadata": {},
   "source": [
    "## 5. Evaluation"
   ]
  },
  {
   "cell_type": "code",
   "execution_count": 122,
   "metadata": {},
   "outputs": [
    {
     "name": "stdout",
     "output_type": "stream",
     "text": [
      "----------------------\n",
      "XGBoost: MSE = 8801899.557420311, MAE = 2279.993441611842, R2 = 0.6921708221704953\n",
      "----------------------\n"
     ]
    }
   ],
   "source": [
    "from sklearn.metrics import mean_squared_error\n",
    "from sklearn.metrics import mean_absolute_error\n",
    "from sklearn.metrics import r2_score\n",
    "\n",
    "# Evaluation metrics\n",
    "mse = mean_squared_error(y_test, y_pred_final_model)\n",
    "mae = mean_absolute_error(y_test, y_pred_final_model)\n",
    "r2 = r2_score(y_test, y_pred_final_model)\n",
    "\n",
    "print(\"----------------------\")\n",
    "print(f\"XGBoost: MSE = {mse}, MAE = {mae}, R2 = {r2}\")\n",
    "print(\"----------------------\")"
   ]
  },
  {
   "cell_type": "code",
   "execution_count": 123,
   "metadata": {},
   "outputs": [
    {
     "data": {
      "text/plain": [
       "' shap.force_plot(base_value, shap_values[0]) #Local explanation\\nshap.plots.waterfall(shap_values[i]) #Local explanation\\nshap.plots.bar(shap_values[i]) #Local explanation\\nshap.summary_plot(shap_values) #Global features importance\\nshap.plots.bar(shap_values.abs.mean(0), max_display=20) #Global features importance\\nshap.plots.scatter(shap_values[:], feature1, color=shap_value[j]) '"
      ]
     },
     "execution_count": 123,
     "metadata": {},
     "output_type": "execute_result"
    }
   ],
   "source": [
    "# EXPLAINABILITY OF THE MODEL (ELI5, LIME, SHAP) ...\n",
    "\"\"\" explainer = TreeExplainer(gbr)\n",
    "shap_values = explainer.shap_values(X_test) \"\"\"\n",
    "\n",
    "\"\"\" shap.force_plot(base_value, shap_values[0]) #Local explanation\n",
    "shap.plots.waterfall(shap_values[i]) #Local explanation\n",
    "shap.plots.bar(shap_values[i]) #Local explanation\n",
    "shap.summary_plot(shap_values) #Global features importance\n",
    "shap.plots.bar(shap_values.abs.mean(0), max_display=20) #Global features importance\n",
    "shap.plots.scatter(shap_values[:], feature1, color=shap_value[j]) \"\"\""
   ]
  },
  {
   "cell_type": "markdown",
   "metadata": {},
   "source": [
    "# 6. Export the dataset and the model"
   ]
  },
  {
   "cell_type": "code",
   "execution_count": 124,
   "metadata": {},
   "outputs": [
    {
     "name": "stdout",
     "output_type": "stream",
     "text": [
      "Dataset saved as 'dataset.csv'\n",
      "Model saved as 'model.pkl'\n"
     ]
    },
    {
     "data": {
      "text/plain": [
       "\" @st.cache_resource\\ndef load_model():\\n    with open('model.pkl', 'rb') as file:\\n        model = pickle.load(file)\\n    return model \""
      ]
     },
     "execution_count": 124,
     "metadata": {},
     "output_type": "execute_result"
    }
   ],
   "source": [
    "# Export the dataset\n",
    "filename_dataset = 'dataset.csv'\n",
    "#data_to_export.drop(columns=['date', 'year'], inplace=True)\n",
    "data_to_export.to_csv(filename_dataset, index=False)\n",
    "print(f\"Dataset saved as '{filename_dataset}'\")\n",
    "\n",
    "# Export the model\n",
    "filename_model = 'model.pkl'\n",
    "with open(filename_model, 'wb') as file:\n",
    "    pickle.dump(final_model, file)\n",
    "print(f\"Model saved as '{filename_model}'\")\n",
    "\n",
    "# Export the label encoders ¿?\n",
    "filename_le_day_of_week = 'le_day_of_week.pkl'\n",
    "filename_le_provincia_destino_name = 'le_provincia_destino_name.pkl'\n",
    "with open(filename_le_day_of_week, 'wb') as file:\n",
    "    pickle.dump(le_day_of_week, file)\n",
    "with open(filename_le_provincia_destino_name, 'wb') as file:\n",
    "    pickle.dump(le_provincia_destino_name, file)\n",
    "\n",
    "\n",
    "\n",
    "\n",
    "\n",
    "# TODO: Importar el modelo en el web app asi:\n",
    "\"\"\" @st.cache_resource\n",
    "def load_model():\n",
    "    with open('model.pkl', 'rb') as file:\n",
    "        model = pickle.load(file)\n",
    "    return model \"\"\""
   ]
  }
 ],
 "metadata": {
  "kernelspec": {
   "display_name": "Python 3",
   "language": "python",
   "name": "python3"
  },
  "language_info": {
   "codemirror_mode": {
    "name": "ipython",
    "version": 3
   },
   "file_extension": ".py",
   "mimetype": "text/x-python",
   "name": "python",
   "nbconvert_exporter": "python",
   "pygments_lexer": "ipython3",
   "version": "3.12.2"
  }
 },
 "nbformat": 4,
 "nbformat_minor": 2
}
