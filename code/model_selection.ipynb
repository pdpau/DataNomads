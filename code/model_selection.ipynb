{
 "cells": [
  {
   "cell_type": "markdown",
   "metadata": {},
   "source": [
    "# Análisis y predicción de flujos de movilidad vacacional en España Peninsula-Islas"
   ]
  },
  {
   "cell_type": "markdown",
   "metadata": {},
   "source": [
    "## 0. Installs and Imports"
   ]
  },
  {
   "cell_type": "code",
   "execution_count": 118,
   "metadata": {},
   "outputs": [],
   "source": [
    "# Installs\n",
    "#%pip install -q -U matplotlib numpy pandas scikit-learn seaborn\n",
    "#%pip install xgboost"
   ]
  },
  {
   "cell_type": "code",
   "execution_count": 119,
   "metadata": {},
   "outputs": [],
   "source": [
    "import numpy as np\n",
    "import pandas as pd\n",
    "import matplotlib.pyplot as plt\n",
    "import seaborn as sns"
   ]
  },
  {
   "cell_type": "markdown",
   "metadata": {},
   "source": [
    "## 1. Load Data"
   ]
  },
  {
   "cell_type": "code",
   "execution_count": 120,
   "metadata": {},
   "outputs": [],
   "source": [
    "path_2022 = \"../data/movilidad_provincias_2022.csv\"\n",
    "path_2023 = \"../data/movilidad_provincias_2023.csv\"\n",
    "path_2024 = \"../data/movilidad_provincias_2024.csv\"\n",
    "\n",
    "original_data_2022 = pd.read_csv(path_2022, sep=\",\")\n",
    "original_data_2023 = pd.read_csv(path_2023, sep=\",\")\n",
    "original_data_2024 = pd.read_csv(path_2024, sep=\",\")\n",
    "\n",
    "df_2022 = original_data_2022.copy()\n",
    "df_2023 = original_data_2023.copy()\n",
    "df_2024 = original_data_2024.copy()\n",
    "\n",
    "df = pd.concat([df_2022, df_2023, df_2024])"
   ]
  },
  {
   "cell_type": "code",
   "execution_count": 121,
   "metadata": {},
   "outputs": [
    {
     "data": {
      "text/plain": [
       "' df_2022.info()\\ndf_2022.head() '"
      ]
     },
     "execution_count": 121,
     "metadata": {},
     "output_type": "execute_result"
    }
   ],
   "source": [
    "\"\"\" df_2022.info()\n",
    "df_2022.head() \"\"\""
   ]
  },
  {
   "cell_type": "markdown",
   "metadata": {},
   "source": [
    "## 2. Data Preparation"
   ]
  },
  {
   "cell_type": "markdown",
   "metadata": {},
   "source": [
    "### 2.1 Dataset Exploratory Data Analysis (EDA)"
   ]
  },
  {
   "cell_type": "code",
   "execution_count": null,
   "metadata": {},
   "outputs": [],
   "source": []
  },
  {
   "cell_type": "markdown",
   "metadata": {},
   "source": [
    "### 2.2 Data Wrangling\n",
    "All this process is known as **Data Wrangling**. In particular, the whole data wrangling process implies:\n",
    "- Define and apply an strategy for nulls and coding for categorical variables\n",
    "- Analyze the variables distribution and correlation between them\n",
    "- Remove outliers\n",
    "- etc...."
   ]
  },
  {
   "cell_type": "code",
   "execution_count": 122,
   "metadata": {},
   "outputs": [],
   "source": [
    "# Data cleaning"
   ]
  },
  {
   "cell_type": "code",
   "execution_count": 123,
   "metadata": {},
   "outputs": [
    {
     "data": {
      "text/html": [
       "<div>\n",
       "<style scoped>\n",
       "    .dataframe tbody tr th:only-of-type {\n",
       "        vertical-align: middle;\n",
       "    }\n",
       "\n",
       "    .dataframe tbody tr th {\n",
       "        vertical-align: top;\n",
       "    }\n",
       "\n",
       "    .dataframe thead th {\n",
       "        text-align: right;\n",
       "    }\n",
       "</style>\n",
       "<table border=\"1\" class=\"dataframe\">\n",
       "  <thead>\n",
       "    <tr style=\"text-align: right;\">\n",
       "      <th></th>\n",
       "      <th>viajeros</th>\n",
       "      <th>viajes</th>\n",
       "      <th>provincia_origen</th>\n",
       "      <th>provincia_origen_name</th>\n",
       "      <th>provincia_destino</th>\n",
       "      <th>provincia_destino_name</th>\n",
       "      <th>day</th>\n",
       "    </tr>\n",
       "  </thead>\n",
       "  <tbody>\n",
       "    <tr>\n",
       "      <th>3</th>\n",
       "      <td>15</td>\n",
       "      <td>15</td>\n",
       "      <td>2</td>\n",
       "      <td>Albacete</td>\n",
       "      <td>7</td>\n",
       "      <td>Balears, Illes</td>\n",
       "      <td>2022-09-01</td>\n",
       "    </tr>\n",
       "    <tr>\n",
       "      <th>25</th>\n",
       "      <td>118</td>\n",
       "      <td>123</td>\n",
       "      <td>2</td>\n",
       "      <td>Albacete</td>\n",
       "      <td>35</td>\n",
       "      <td>Palmas, Las</td>\n",
       "      <td>2022-09-01</td>\n",
       "    </tr>\n",
       "    <tr>\n",
       "      <th>26</th>\n",
       "      <td>88</td>\n",
       "      <td>92</td>\n",
       "      <td>2</td>\n",
       "      <td>Albacete</td>\n",
       "      <td>38</td>\n",
       "      <td>Santa Cruz de Tenerife</td>\n",
       "      <td>2022-09-01</td>\n",
       "    </tr>\n",
       "    <tr>\n",
       "      <th>39</th>\n",
       "      <td>3026</td>\n",
       "      <td>3073</td>\n",
       "      <td>3</td>\n",
       "      <td>Alicante</td>\n",
       "      <td>7</td>\n",
       "      <td>Balears, Illes</td>\n",
       "      <td>2022-09-01</td>\n",
       "    </tr>\n",
       "    <tr>\n",
       "      <th>64</th>\n",
       "      <td>110</td>\n",
       "      <td>143</td>\n",
       "      <td>3</td>\n",
       "      <td>Alicante</td>\n",
       "      <td>35</td>\n",
       "      <td>Palmas, Las</td>\n",
       "      <td>2022-09-01</td>\n",
       "    </tr>\n",
       "    <tr>\n",
       "      <th>...</th>\n",
       "      <td>...</td>\n",
       "      <td>...</td>\n",
       "      <td>...</td>\n",
       "      <td>...</td>\n",
       "      <td>...</td>\n",
       "      <td>...</td>\n",
       "      <td>...</td>\n",
       "    </tr>\n",
       "    <tr>\n",
       "      <th>486703</th>\n",
       "      <td>117</td>\n",
       "      <td>119</td>\n",
       "      <td>47</td>\n",
       "      <td>Valladolid</td>\n",
       "      <td>35</td>\n",
       "      <td>Palmas, Las</td>\n",
       "      <td>2024-09-30</td>\n",
       "    </tr>\n",
       "    <tr>\n",
       "      <th>486749</th>\n",
       "      <td>510</td>\n",
       "      <td>517</td>\n",
       "      <td>50</td>\n",
       "      <td>Zaragoza</td>\n",
       "      <td>7</td>\n",
       "      <td>Balears, Illes</td>\n",
       "      <td>2024-09-30</td>\n",
       "    </tr>\n",
       "    <tr>\n",
       "      <th>486774</th>\n",
       "      <td>110</td>\n",
       "      <td>116</td>\n",
       "      <td>50</td>\n",
       "      <td>Zaragoza</td>\n",
       "      <td>35</td>\n",
       "      <td>Palmas, Las</td>\n",
       "      <td>2024-09-30</td>\n",
       "    </tr>\n",
       "    <tr>\n",
       "      <th>486805</th>\n",
       "      <td>29</td>\n",
       "      <td>36</td>\n",
       "      <td>5</td>\n",
       "      <td>Ávila</td>\n",
       "      <td>35</td>\n",
       "      <td>Palmas, Las</td>\n",
       "      <td>2024-09-30</td>\n",
       "    </tr>\n",
       "    <tr>\n",
       "      <th>486808</th>\n",
       "      <td>70</td>\n",
       "      <td>82</td>\n",
       "      <td>5</td>\n",
       "      <td>Ávila</td>\n",
       "      <td>38</td>\n",
       "      <td>Santa Cruz de Tenerife</td>\n",
       "      <td>2024-09-30</td>\n",
       "    </tr>\n",
       "  </tbody>\n",
       "</table>\n",
       "<p>86525 rows × 7 columns</p>\n",
       "</div>"
      ],
      "text/plain": [
       "        viajeros  viajes  provincia_origen provincia_origen_name  \\\n",
       "3             15      15                 2              Albacete   \n",
       "25           118     123                 2              Albacete   \n",
       "26            88      92                 2              Albacete   \n",
       "39          3026    3073                 3              Alicante   \n",
       "64           110     143                 3              Alicante   \n",
       "...          ...     ...               ...                   ...   \n",
       "486703       117     119                47            Valladolid   \n",
       "486749       510     517                50              Zaragoza   \n",
       "486774       110     116                50              Zaragoza   \n",
       "486805        29      36                 5                 Ávila   \n",
       "486808        70      82                 5                 Ávila   \n",
       "\n",
       "        provincia_destino  provincia_destino_name         day  \n",
       "3                       7          Balears, Illes  2022-09-01  \n",
       "25                     35             Palmas, Las  2022-09-01  \n",
       "26                     38  Santa Cruz de Tenerife  2022-09-01  \n",
       "39                      7          Balears, Illes  2022-09-01  \n",
       "64                     35             Palmas, Las  2022-09-01  \n",
       "...                   ...                     ...         ...  \n",
       "486703                 35             Palmas, Las  2024-09-30  \n",
       "486749                  7          Balears, Illes  2024-09-30  \n",
       "486774                 35             Palmas, Las  2024-09-30  \n",
       "486805                 35             Palmas, Las  2024-09-30  \n",
       "486808                 38  Santa Cruz de Tenerife  2024-09-30  \n",
       "\n",
       "[86525 rows x 7 columns]"
      ]
     },
     "execution_count": 123,
     "metadata": {},
     "output_type": "execute_result"
    }
   ],
   "source": [
    "# DATA FILTERING\n",
    "# Keep only the rows with destination province = ['Balears, Illes', 'Palmas, Las', 'Santa Cruz de Tenerife']\n",
    "insular_provinces = ['Balears, Illes', 'Palmas, Las', 'Santa Cruz de Tenerife']\n",
    "df = df[df['provincia_destino_name'].isin(insular_provinces)]\n",
    "df"
   ]
  },
  {
   "cell_type": "markdown",
   "metadata": {},
   "source": [
    "## 3. Feature extraction"
   ]
  },
  {
   "cell_type": "code",
   "execution_count": 124,
   "metadata": {},
   "outputs": [
    {
     "data": {
      "text/html": [
       "<div>\n",
       "<style scoped>\n",
       "    .dataframe tbody tr th:only-of-type {\n",
       "        vertical-align: middle;\n",
       "    }\n",
       "\n",
       "    .dataframe tbody tr th {\n",
       "        vertical-align: top;\n",
       "    }\n",
       "\n",
       "    .dataframe thead th {\n",
       "        text-align: right;\n",
       "    }\n",
       "</style>\n",
       "<table border=\"1\" class=\"dataframe\">\n",
       "  <thead>\n",
       "    <tr style=\"text-align: right;\">\n",
       "      <th></th>\n",
       "      <th>viajeros</th>\n",
       "      <th>viajes</th>\n",
       "      <th>provincia_origen</th>\n",
       "      <th>provincia_origen_name</th>\n",
       "      <th>provincia_destino</th>\n",
       "      <th>provincia_destino_name</th>\n",
       "      <th>date</th>\n",
       "      <th>day_of_week</th>\n",
       "      <th>month</th>\n",
       "      <th>year</th>\n",
       "    </tr>\n",
       "  </thead>\n",
       "  <tbody>\n",
       "    <tr>\n",
       "      <th>3</th>\n",
       "      <td>15</td>\n",
       "      <td>15</td>\n",
       "      <td>2</td>\n",
       "      <td>Albacete</td>\n",
       "      <td>7</td>\n",
       "      <td>Balears, Illes</td>\n",
       "      <td>2022-09-01</td>\n",
       "      <td>Thursday</td>\n",
       "      <td>9</td>\n",
       "      <td>2022</td>\n",
       "    </tr>\n",
       "    <tr>\n",
       "      <th>25</th>\n",
       "      <td>118</td>\n",
       "      <td>123</td>\n",
       "      <td>2</td>\n",
       "      <td>Albacete</td>\n",
       "      <td>35</td>\n",
       "      <td>Palmas, Las</td>\n",
       "      <td>2022-09-01</td>\n",
       "      <td>Thursday</td>\n",
       "      <td>9</td>\n",
       "      <td>2022</td>\n",
       "    </tr>\n",
       "    <tr>\n",
       "      <th>26</th>\n",
       "      <td>88</td>\n",
       "      <td>92</td>\n",
       "      <td>2</td>\n",
       "      <td>Albacete</td>\n",
       "      <td>38</td>\n",
       "      <td>Santa Cruz de Tenerife</td>\n",
       "      <td>2022-09-01</td>\n",
       "      <td>Thursday</td>\n",
       "      <td>9</td>\n",
       "      <td>2022</td>\n",
       "    </tr>\n",
       "    <tr>\n",
       "      <th>39</th>\n",
       "      <td>3026</td>\n",
       "      <td>3073</td>\n",
       "      <td>3</td>\n",
       "      <td>Alicante</td>\n",
       "      <td>7</td>\n",
       "      <td>Balears, Illes</td>\n",
       "      <td>2022-09-01</td>\n",
       "      <td>Thursday</td>\n",
       "      <td>9</td>\n",
       "      <td>2022</td>\n",
       "    </tr>\n",
       "    <tr>\n",
       "      <th>64</th>\n",
       "      <td>110</td>\n",
       "      <td>143</td>\n",
       "      <td>3</td>\n",
       "      <td>Alicante</td>\n",
       "      <td>35</td>\n",
       "      <td>Palmas, Las</td>\n",
       "      <td>2022-09-01</td>\n",
       "      <td>Thursday</td>\n",
       "      <td>9</td>\n",
       "      <td>2022</td>\n",
       "    </tr>\n",
       "    <tr>\n",
       "      <th>...</th>\n",
       "      <td>...</td>\n",
       "      <td>...</td>\n",
       "      <td>...</td>\n",
       "      <td>...</td>\n",
       "      <td>...</td>\n",
       "      <td>...</td>\n",
       "      <td>...</td>\n",
       "      <td>...</td>\n",
       "      <td>...</td>\n",
       "      <td>...</td>\n",
       "    </tr>\n",
       "    <tr>\n",
       "      <th>486703</th>\n",
       "      <td>117</td>\n",
       "      <td>119</td>\n",
       "      <td>47</td>\n",
       "      <td>Valladolid</td>\n",
       "      <td>35</td>\n",
       "      <td>Palmas, Las</td>\n",
       "      <td>2024-09-30</td>\n",
       "      <td>Monday</td>\n",
       "      <td>9</td>\n",
       "      <td>2024</td>\n",
       "    </tr>\n",
       "    <tr>\n",
       "      <th>486749</th>\n",
       "      <td>510</td>\n",
       "      <td>517</td>\n",
       "      <td>50</td>\n",
       "      <td>Zaragoza</td>\n",
       "      <td>7</td>\n",
       "      <td>Balears, Illes</td>\n",
       "      <td>2024-09-30</td>\n",
       "      <td>Monday</td>\n",
       "      <td>9</td>\n",
       "      <td>2024</td>\n",
       "    </tr>\n",
       "    <tr>\n",
       "      <th>486774</th>\n",
       "      <td>110</td>\n",
       "      <td>116</td>\n",
       "      <td>50</td>\n",
       "      <td>Zaragoza</td>\n",
       "      <td>35</td>\n",
       "      <td>Palmas, Las</td>\n",
       "      <td>2024-09-30</td>\n",
       "      <td>Monday</td>\n",
       "      <td>9</td>\n",
       "      <td>2024</td>\n",
       "    </tr>\n",
       "    <tr>\n",
       "      <th>486805</th>\n",
       "      <td>29</td>\n",
       "      <td>36</td>\n",
       "      <td>5</td>\n",
       "      <td>Ávila</td>\n",
       "      <td>35</td>\n",
       "      <td>Palmas, Las</td>\n",
       "      <td>2024-09-30</td>\n",
       "      <td>Monday</td>\n",
       "      <td>9</td>\n",
       "      <td>2024</td>\n",
       "    </tr>\n",
       "    <tr>\n",
       "      <th>486808</th>\n",
       "      <td>70</td>\n",
       "      <td>82</td>\n",
       "      <td>5</td>\n",
       "      <td>Ávila</td>\n",
       "      <td>38</td>\n",
       "      <td>Santa Cruz de Tenerife</td>\n",
       "      <td>2024-09-30</td>\n",
       "      <td>Monday</td>\n",
       "      <td>9</td>\n",
       "      <td>2024</td>\n",
       "    </tr>\n",
       "  </tbody>\n",
       "</table>\n",
       "<p>86525 rows × 10 columns</p>\n",
       "</div>"
      ],
      "text/plain": [
       "        viajeros  viajes  provincia_origen provincia_origen_name  \\\n",
       "3             15      15                 2              Albacete   \n",
       "25           118     123                 2              Albacete   \n",
       "26            88      92                 2              Albacete   \n",
       "39          3026    3073                 3              Alicante   \n",
       "64           110     143                 3              Alicante   \n",
       "...          ...     ...               ...                   ...   \n",
       "486703       117     119                47            Valladolid   \n",
       "486749       510     517                50              Zaragoza   \n",
       "486774       110     116                50              Zaragoza   \n",
       "486805        29      36                 5                 Ávila   \n",
       "486808        70      82                 5                 Ávila   \n",
       "\n",
       "        provincia_destino  provincia_destino_name       date day_of_week  \\\n",
       "3                       7          Balears, Illes 2022-09-01    Thursday   \n",
       "25                     35             Palmas, Las 2022-09-01    Thursday   \n",
       "26                     38  Santa Cruz de Tenerife 2022-09-01    Thursday   \n",
       "39                      7          Balears, Illes 2022-09-01    Thursday   \n",
       "64                     35             Palmas, Las 2022-09-01    Thursday   \n",
       "...                   ...                     ...        ...         ...   \n",
       "486703                 35             Palmas, Las 2024-09-30      Monday   \n",
       "486749                  7          Balears, Illes 2024-09-30      Monday   \n",
       "486774                 35             Palmas, Las 2024-09-30      Monday   \n",
       "486805                 35             Palmas, Las 2024-09-30      Monday   \n",
       "486808                 38  Santa Cruz de Tenerife 2024-09-30      Monday   \n",
       "\n",
       "        month  year  \n",
       "3           9  2022  \n",
       "25          9  2022  \n",
       "26          9  2022  \n",
       "39          9  2022  \n",
       "64          9  2022  \n",
       "...       ...   ...  \n",
       "486703      9  2024  \n",
       "486749      9  2024  \n",
       "486774      9  2024  \n",
       "486805      9  2024  \n",
       "486808      9  2024  \n",
       "\n",
       "[86525 rows x 10 columns]"
      ]
     },
     "execution_count": 124,
     "metadata": {},
     "output_type": "execute_result"
    }
   ],
   "source": [
    "features_df = df.copy()\n",
    "\n",
    "# Add two new columns, day_of_week and month\n",
    "features_df['date'] = pd.to_datetime(features_df['day'])\n",
    "features_df['day_of_week'] = features_df['date'].dt.day_name()\n",
    "features_df['month'] = features_df['date'].dt.month\n",
    "features_df['year'] = features_df['date'].dt.year\n",
    "features_df.drop(columns=['day'], inplace=True)\n",
    "\n",
    "features_df"
   ]
  },
  {
   "cell_type": "code",
   "execution_count": 125,
   "metadata": {},
   "outputs": [
    {
     "data": {
      "text/html": [
       "<div>\n",
       "<style scoped>\n",
       "    .dataframe tbody tr th:only-of-type {\n",
       "        vertical-align: middle;\n",
       "    }\n",
       "\n",
       "    .dataframe tbody tr th {\n",
       "        vertical-align: top;\n",
       "    }\n",
       "\n",
       "    .dataframe thead th {\n",
       "        text-align: right;\n",
       "    }\n",
       "</style>\n",
       "<table border=\"1\" class=\"dataframe\">\n",
       "  <thead>\n",
       "    <tr style=\"text-align: right;\">\n",
       "      <th></th>\n",
       "      <th>date</th>\n",
       "      <th>provincia_destino_name</th>\n",
       "      <th>day_of_week</th>\n",
       "      <th>month</th>\n",
       "      <th>year</th>\n",
       "      <th>viajes</th>\n",
       "    </tr>\n",
       "  </thead>\n",
       "  <tbody>\n",
       "    <tr>\n",
       "      <th>0</th>\n",
       "      <td>2022-09-01</td>\n",
       "      <td>Balears, Illes</td>\n",
       "      <td>Thursday</td>\n",
       "      <td>9</td>\n",
       "      <td>2022</td>\n",
       "      <td>27489</td>\n",
       "    </tr>\n",
       "    <tr>\n",
       "      <th>1</th>\n",
       "      <td>2022-09-01</td>\n",
       "      <td>Palmas, Las</td>\n",
       "      <td>Thursday</td>\n",
       "      <td>9</td>\n",
       "      <td>2022</td>\n",
       "      <td>17094</td>\n",
       "    </tr>\n",
       "    <tr>\n",
       "      <th>2</th>\n",
       "      <td>2022-09-01</td>\n",
       "      <td>Santa Cruz de Tenerife</td>\n",
       "      <td>Thursday</td>\n",
       "      <td>9</td>\n",
       "      <td>2022</td>\n",
       "      <td>14233</td>\n",
       "    </tr>\n",
       "    <tr>\n",
       "      <th>3</th>\n",
       "      <td>2022-09-02</td>\n",
       "      <td>Balears, Illes</td>\n",
       "      <td>Friday</td>\n",
       "      <td>9</td>\n",
       "      <td>2022</td>\n",
       "      <td>29444</td>\n",
       "    </tr>\n",
       "    <tr>\n",
       "      <th>4</th>\n",
       "      <td>2022-09-02</td>\n",
       "      <td>Palmas, Las</td>\n",
       "      <td>Friday</td>\n",
       "      <td>9</td>\n",
       "      <td>2022</td>\n",
       "      <td>16292</td>\n",
       "    </tr>\n",
       "    <tr>\n",
       "      <th>...</th>\n",
       "      <td>...</td>\n",
       "      <td>...</td>\n",
       "      <td>...</td>\n",
       "      <td>...</td>\n",
       "      <td>...</td>\n",
       "      <td>...</td>\n",
       "    </tr>\n",
       "    <tr>\n",
       "      <th>2275</th>\n",
       "      <td>2024-09-29</td>\n",
       "      <td>Palmas, Las</td>\n",
       "      <td>Sunday</td>\n",
       "      <td>9</td>\n",
       "      <td>2024</td>\n",
       "      <td>18728</td>\n",
       "    </tr>\n",
       "    <tr>\n",
       "      <th>2276</th>\n",
       "      <td>2024-09-29</td>\n",
       "      <td>Santa Cruz de Tenerife</td>\n",
       "      <td>Sunday</td>\n",
       "      <td>9</td>\n",
       "      <td>2024</td>\n",
       "      <td>17824</td>\n",
       "    </tr>\n",
       "    <tr>\n",
       "      <th>2277</th>\n",
       "      <td>2024-09-30</td>\n",
       "      <td>Balears, Illes</td>\n",
       "      <td>Monday</td>\n",
       "      <td>9</td>\n",
       "      <td>2024</td>\n",
       "      <td>26655</td>\n",
       "    </tr>\n",
       "    <tr>\n",
       "      <th>2278</th>\n",
       "      <td>2024-09-30</td>\n",
       "      <td>Palmas, Las</td>\n",
       "      <td>Monday</td>\n",
       "      <td>9</td>\n",
       "      <td>2024</td>\n",
       "      <td>19614</td>\n",
       "    </tr>\n",
       "    <tr>\n",
       "      <th>2279</th>\n",
       "      <td>2024-09-30</td>\n",
       "      <td>Santa Cruz de Tenerife</td>\n",
       "      <td>Monday</td>\n",
       "      <td>9</td>\n",
       "      <td>2024</td>\n",
       "      <td>18937</td>\n",
       "    </tr>\n",
       "  </tbody>\n",
       "</table>\n",
       "<p>2280 rows × 6 columns</p>\n",
       "</div>"
      ],
      "text/plain": [
       "           date  provincia_destino_name day_of_week  month  year  viajes\n",
       "0    2022-09-01          Balears, Illes    Thursday      9  2022   27489\n",
       "1    2022-09-01             Palmas, Las    Thursday      9  2022   17094\n",
       "2    2022-09-01  Santa Cruz de Tenerife    Thursday      9  2022   14233\n",
       "3    2022-09-02          Balears, Illes      Friday      9  2022   29444\n",
       "4    2022-09-02             Palmas, Las      Friday      9  2022   16292\n",
       "...         ...                     ...         ...    ...   ...     ...\n",
       "2275 2024-09-29             Palmas, Las      Sunday      9  2024   18728\n",
       "2276 2024-09-29  Santa Cruz de Tenerife      Sunday      9  2024   17824\n",
       "2277 2024-09-30          Balears, Illes      Monday      9  2024   26655\n",
       "2278 2024-09-30             Palmas, Las      Monday      9  2024   19614\n",
       "2279 2024-09-30  Santa Cruz de Tenerife      Monday      9  2024   18937\n",
       "\n",
       "[2280 rows x 6 columns]"
      ]
     },
     "execution_count": 125,
     "metadata": {},
     "output_type": "execute_result"
    }
   ],
   "source": [
    "# Sum all the trips to the same destination province\n",
    "total_llegadas_islas = features_df.groupby(['date', 'provincia_destino_name', 'day_of_week', 'month', 'year'])['viajes'].sum().reset_index()\n",
    "total_llegadas_islas"
   ]
  },
  {
   "cell_type": "markdown",
   "metadata": {},
   "source": [
    "## 4. Model"
   ]
  },
  {
   "cell_type": "code",
   "execution_count": 126,
   "metadata": {},
   "outputs": [],
   "source": [
    "from sklearn.preprocessing import LabelEncoder\n",
    "from sklearn.model_selection import train_test_split\n",
    "\n",
    "df1 = total_llegadas_islas.copy()\n",
    "df1.drop(columns=['date'], inplace=True)\n",
    "df1.drop(columns=['year'], inplace=True)"
   ]
  },
  {
   "cell_type": "code",
   "execution_count": 127,
   "metadata": {},
   "outputs": [
    {
     "data": {
      "image/png": "[encoded data removed]",
      "text/plain": [
       "<Figure size 1200x1000 with 2 Axes>"
      ]
     },
     "metadata": {},
     "output_type": "display_data"
    }
   ],
   "source": [
    "# Label encoding\n",
    "le_day_of_week = LabelEncoder()\n",
    "df1['day_of_week'] = le_day_of_week.fit_transform(df1['day_of_week'])\n",
    "le_provincia_destino_name = LabelEncoder()\n",
    "df1['provincia_destino_name'] = le_provincia_destino_name.fit_transform(df1['provincia_destino_name'])\n",
    "\n",
    "df1\n",
    "\n",
    "# Correlation matrix\n",
    "import seaborn as sns\n",
    "plt.figure(figsize=(12, 10))\n",
    "sns.heatmap(df1.corr(), annot=True, cmap='coolwarm')\n",
    "plt.show()"
   ]
  },
  {
   "cell_type": "code",
   "execution_count": 128,
   "metadata": {},
   "outputs": [],
   "source": [
    "features = df1.drop(columns=['viajes'])\n",
    "target = df1['viajes']\n",
    "\n",
    "X = features\n",
    "y = target"
   ]
  },
  {
   "cell_type": "code",
   "execution_count": 129,
   "metadata": {},
   "outputs": [
    {
     "data": {
      "text/plain": [
       "(1824, 456, 1824, 456)"
      ]
     },
     "execution_count": 129,
     "metadata": {},
     "output_type": "execute_result"
    }
   ],
   "source": [
    "# Train test split\n",
    "X_train, X_test, y_train, y_test = train_test_split(X, y, test_size=0.2, random_state=42)\n",
    "len(X_train), len(X_test), len(y_train), len(y_test)"
   ]
  },
  {
   "cell_type": "code",
   "execution_count": 130,
   "metadata": {},
   "outputs": [],
   "source": [
    "# LINEAR REGRESSION\n",
    "from sklearn.linear_model import LinearRegression\n",
    "\n",
    "lr = LinearRegression()\n",
    "lr.fit(X_train, y_train)\n",
    "y_pred_lr = lr.predict(X_test)\n"
   ]
  },
  {
   "cell_type": "code",
   "execution_count": 131,
   "metadata": {},
   "outputs": [],
   "source": [
    "# GRADIENT BOOSTING REGRESSOR\n",
    "from sklearn.ensemble import GradientBoostingRegressor\n",
    "\n",
    "gbr = GradientBoostingRegressor()\n",
    "gbr.fit(X_train, y_train)\n",
    "y_pred_gbr = gbr.predict(X_test)"
   ]
  },
  {
   "cell_type": "code",
   "execution_count": 132,
   "metadata": {},
   "outputs": [
    {
     "data": {
      "text/plain": [
       "' import statsmodels.api as sm\\n\\nX_train_ols = sm.add_constant(X_train)\\nols = sm.OLS(y_train, X_train_ols).fit()\\nprint(ols.summary()) '"
      ]
     },
     "execution_count": 132,
     "metadata": {},
     "output_type": "execute_result"
    }
   ],
   "source": [
    "# ORDINARY LEAST SQUARES REGRESSION\n",
    "\"\"\" import statsmodels.api as sm\n",
    "\n",
    "X_train_ols = sm.add_constant(X_train)\n",
    "ols = sm.OLS(y_train, X_train_ols).fit()\n",
    "print(ols.summary()) \"\"\""
   ]
  },
  {
   "cell_type": "code",
   "execution_count": 133,
   "metadata": {},
   "outputs": [],
   "source": [
    "# RANDOM FOREST REGRESSOR\n",
    "from sklearn.ensemble import RandomForestRegressor\n",
    "\n",
    "rf = RandomForestRegressor()\n",
    "rf.fit(X_train, y_train)\n",
    "y_pred_rf = rf.predict(X_test)"
   ]
  },
  {
   "cell_type": "code",
   "execution_count": null,
   "metadata": {},
   "outputs": [],
   "source": [
    "# XGBOOST REGRESSOR (https://xgboost.readthedocs.io/en/stable/index.html)\n",
    "import xgboost as xgbst\n",
    "from xgboost import XGBRegressor\n",
    "\n",
    "xgb = XGBRegressor()\n",
    "xgb.fit(X_train, y_train)\n",
    "y_pred_xgb = xgb.predict(X_test)"
   ]
  },
  {
   "cell_type": "code",
   "execution_count": 135,
   "metadata": {},
   "outputs": [
    {
     "data": {
      "text/plain": [
       "\" xgb_params = {'n_estimators': [100, 200, 300], 'learning_rate': [0.01, 0.1, 1], 'max_depth': [3, 5, 7]}\\nxgb_gs = GridSearchCV(xgb, xgb_params, cv=5)\\nxgb_gs.fit(X_train, y_train)\\nxgb_best = xgb_gs.best_estimator_ \""
      ]
     },
     "execution_count": 135,
     "metadata": {},
     "output_type": "execute_result"
    }
   ],
   "source": [
    "# Grid Search with different hyperparameters to find the best ones for each model\n",
    "from sklearn.model_selection import GridSearchCV\n",
    "\n",
    "# Linear Regression (TODO: Tocar els paràmetres)\n",
    "\"\"\" lr_params = {'fit_intercept': [True, False], 'normalize': [True, False]}\n",
    "lr_gs = GridSearchCV(lr, lr_params, cv=5)\n",
    "lr_gs.fit(X_train, y_train)\n",
    "lr_best = lr_gs.best_estimator_ \"\"\"\n",
    "\n",
    "# Gradient Boosting Regressor (TODO: Tocar els paràmetres)\n",
    "#gbr_params = {'n_estimators': [100, 200, 300], 'learning_rate': [0.01, 0.1, 1], 'max_depth': [3, 5, 7]}\n",
    "#gbr_gs = GridSearchCV(gbr, gbr_params, cv=5)\n",
    "#gbr_gs.fit(X_train, y_train)\n",
    "#gbr_best = gbr_gs.best_estimator_\n",
    "\n",
    "# Random Forest Regressor (TODO: Tocar els paràmetres)\n",
    "#rf_params = {'n_estimators': [100, 200, 300], 'max_depth': [3, 5, 7]}\n",
    "#rf_gs = GridSearchCV(rf, rf_params, cv=5)\n",
    "#rf_gs.fit(X_train, y_train)\n",
    "#rf_best = rf_gs.best_estimator_\n",
    "\n",
    "# XGBoost Regressor (TODO: Mirar quins parametres té)\n",
    "\"\"\" xgb_params = {'n_estimators': [100, 200, 300], 'learning_rate': [0.01, 0.1, 1], 'max_depth': [3, 5, 7]}\n",
    "xgb_gs = GridSearchCV(xgb, xgb_params, cv=5)\n",
    "xgb_gs.fit(X_train, y_train)\n",
    "xgb_best = xgb_gs.best_estimator_ \"\"\""
   ]
  },
  {
   "cell_type": "markdown",
   "metadata": {},
   "source": [
    "## 5. Evaluation and Conclusions"
   ]
  },
  {
   "cell_type": "code",
   "execution_count": 136,
   "metadata": {},
   "outputs": [
    {
     "name": "stdout",
     "output_type": "stream",
     "text": [
      "----------------------\n",
      "Linear Regression: MSE = 24298805.777803075, MAE = 3836.1645992946005, R2 = 0.19018463022507315\n",
      "Gradient Boosting: MSE = 9496016.930673249, MAE = 2316.865792646571, R2 = 0.6835226993284194\n",
      "Random Forest: MSE = 10455385.38406997, MAE = 2438.092881778446, R2 = 0.6515494687942845\n",
      "XGBoost: MSE = 10441692.387102708, MAE = 2432.887078536184, R2 = 0.6520058204151736\n",
      "----------------------\n"
     ]
    }
   ],
   "source": [
    "from sklearn.metrics import mean_squared_error\n",
    "from sklearn.metrics import mean_absolute_error\n",
    "from sklearn.metrics import r2_score\n",
    "\n",
    "# Basic evaluation metrics\n",
    "mse_lr = mean_squared_error(y_test, y_pred_lr)\n",
    "mae_lr = mean_absolute_error(y_test, y_pred_lr)\n",
    "r2_lr = r2_score(y_test, y_pred_lr)\n",
    "\n",
    "mse_gbr = mean_squared_error(y_test, y_pred_gbr)\n",
    "mae_gbr = mean_absolute_error(y_test, y_pred_gbr)\n",
    "r2_gbr = r2_score(y_test, y_pred_gbr)\n",
    "\n",
    "mse_rf = mean_squared_error(y_test, y_pred_rf)\n",
    "mae_rf = mean_absolute_error(y_test, y_pred_rf)\n",
    "r2_rf = r2_score(y_test, y_pred_rf)\n",
    "\n",
    "mse_xgb = mean_squared_error(y_test, y_pred_xgb)\n",
    "mae_xgb = mean_absolute_error(y_test, y_pred_xgb)\n",
    "r2_xgb = r2_score(y_test, y_pred_xgb)\n",
    "\n",
    "print(\"----------------------\")\n",
    "print(f\"Linear Regression: MSE = {mse_lr}, MAE = {mae_lr}, R2 = {r2_lr}\")\n",
    "print(f\"Gradient Boosting: MSE = {mse_gbr}, MAE = {mae_gbr}, R2 = {r2_gbr}\")\n",
    "print(f\"Random Forest: MSE = {mse_rf}, MAE = {mae_rf}, R2 = {r2_rf}\")\n",
    "print(f\"XGBoost: MSE = {mse_xgb}, MAE = {mae_xgb}, R2 = {r2_xgb}\")\n",
    "print(\"----------------------\")"
   ]
  },
  {
   "cell_type": "code",
   "execution_count": 137,
   "metadata": {},
   "outputs": [
    {
     "name": "stdout",
     "output_type": "stream",
     "text": [
      "                  Feature  Linear Regression  Gradient Boosting  Random Forest\n",
      "0  provincia_destino_name       -2688.942576           0.322935       0.264567\n",
      "1             day_of_week        -430.510216           0.051420       0.104857\n",
      "2                   month          94.787200           0.625645       0.630576\n"
     ]
    },
    {
     "data": {
      "image/png": "[encoded data removed]",
      "text/plain": [
       "<Figure size 640x480 with 1 Axes>"
      ]
     },
     "metadata": {},
     "output_type": "display_data"
    }
   ],
   "source": [
    "# Feature importances\n",
    "\n",
    "feature_importances_lr = lr.coef_\n",
    "feature_importances_gbr = gbr.feature_importances_\n",
    "feature_importances_rf = rf.feature_importances_\n",
    "xgbst.plot_importance(xgb)\n",
    "\n",
    "feature_importances = pd.DataFrame({\n",
    "    'Feature': X.columns,\n",
    "    'Linear Regression': feature_importances_lr,\n",
    "    'Gradient Boosting': feature_importances_gbr,\n",
    "    'Random Forest': feature_importances_rf\n",
    "})\n",
    "\n",
    "print(feature_importances)"
   ]
  },
  {
   "cell_type": "code",
   "execution_count": 138,
   "metadata": {},
   "outputs": [],
   "source": [
    "# EXPLAINABILITY OF THE MODEL (ELI5, LIME, SHAP) ..."
   ]
  },
  {
   "cell_type": "code",
   "execution_count": 139,
   "metadata": {},
   "outputs": [],
   "source": [
    "# For classifier: Precision, recall, f1-score, accuracy, confusion matrix, DENSITY CHARTS, ...\n",
    "# For regressor: R2, RMSE, MAE, ...\n"
   ]
  },
  {
   "cell_type": "code",
   "execution_count": 140,
   "metadata": {},
   "outputs": [
    {
     "data": {
      "text/plain": [
       "' from sklearn.metrics import confusion_matrix\\n\\nconfusion_matrix_lr = confusion_matrix(y_test, y_pred_lr)\\nconfusion_matrix_gbr = confusion_matrix(y_test, y_pred_gbr)\\nconfusion_matrix_rf = confusion_matrix(y_test, y_pred_rf)\\nconfusion_matrix_xgb = confusion_matrix(y_test, y_pred_xgb)\\n\\nfig, ax = plt.subplots(1, 4, figsize=(20, 5))\\nsns.heatmap(confusion_matrix_lr, annot=True, cmap=\\'coolwarm\\', ax=ax[0])\\nsns.heatmap(confusion_matrix_gbr, annot=True, cmap=\\'coolwarm\\', ax=ax[1])\\nsns.heatmap(confusion_matrix_rf, annot=True, cmap=\\'coolwarm\\', ax=ax[2])\\nsns.heatmap(confusion_matrix_xgb, annot=True, cmap=\\'coolwarm\\', ax=ax[3])\\nax[0].set_title(\"Linear Regression\")\\nax[1].set_title(\"Gradient Boosting Regressor\")\\nax[2].set_title(\"Random Forest\")\\nax[3].set_title(\"XGBoost\")\\nplt.show() '"
      ]
     },
     "execution_count": 140,
     "metadata": {},
     "output_type": "execute_result"
    }
   ],
   "source": [
    "# Confusion matrices\n",
    "\"\"\" from sklearn.metrics import confusion_matrix\n",
    "\n",
    "confusion_matrix_lr = confusion_matrix(y_test, y_pred_lr)\n",
    "confusion_matrix_gbr = confusion_matrix(y_test, y_pred_gbr)\n",
    "confusion_matrix_rf = confusion_matrix(y_test, y_pred_rf)\n",
    "confusion_matrix_xgb = confusion_matrix(y_test, y_pred_xgb)\n",
    "\n",
    "fig, ax = plt.subplots(1, 4, figsize=(20, 5))\n",
    "sns.heatmap(confusion_matrix_lr, annot=True, cmap='coolwarm', ax=ax[0])\n",
    "sns.heatmap(confusion_matrix_gbr, annot=True, cmap='coolwarm', ax=ax[1])\n",
    "sns.heatmap(confusion_matrix_rf, annot=True, cmap='coolwarm', ax=ax[2])\n",
    "sns.heatmap(confusion_matrix_xgb, annot=True, cmap='coolwarm', ax=ax[3])\n",
    "ax[0].set_title(\"Linear Regression\")\n",
    "ax[1].set_title(\"Gradient Boosting Regressor\")\n",
    "ax[2].set_title(\"Random Forest\")\n",
    "ax[3].set_title(\"XGBoost\")\n",
    "plt.show() \"\"\""
   ]
  }
 ],
 "metadata": {
  "kernelspec": {
   "display_name": "Python 3",
   "language": "python",
   "name": "python3"
  },
  "language_info": {
   "codemirror_mode": {
    "name": "ipython",
    "version": 3
   },
   "file_extension": ".py",
   "mimetype": "text/x-python",
   "name": "python",
   "nbconvert_exporter": "python",
   "pygments_lexer": "ipython3",
   "version": "3.12.2"
  }
 },
 "nbformat": 4,
 "nbformat_minor": 2
}
